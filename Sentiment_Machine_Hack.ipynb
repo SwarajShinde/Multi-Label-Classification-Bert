{
  "nbformat": 4,
  "nbformat_minor": 0,
  "metadata": {
    "colab": {
      "name": "Sentiment_Machine_Hack.ipynb",
      "provenance": [],
      "collapsed_sections": [],
      "authorship_tag": "ABX9TyOt0/kR7A5em3R2DZNNmJF0",
      "include_colab_link": true
    },
    "kernelspec": {
      "name": "python3",
      "display_name": "Python 3"
    },
    "accelerator": "GPU"
  },
  "cells": [
    {
      "cell_type": "markdown",
      "metadata": {
        "id": "view-in-github",
        "colab_type": "text"
      },
      "source": [
        "<a href=\"https://colab.research.google.com/github/SwarajShinde/Multi-Label-Classification-Bert/blob/master/Sentiment_Machine_Hack.ipynb\" target=\"_parent\"><img src=\"https://colab.research.google.com/assets/colab-badge.svg\" alt=\"Open In Colab\"/></a>"
      ]
    },
    {
      "cell_type": "markdown",
      "metadata": {
        "id": "3w4zwJRShvv9",
        "colab_type": "text"
      },
      "source": [
        "Imports"
      ]
    },
    {
      "cell_type": "code",
      "metadata": {
        "id": "Mexg62-NhIx2",
        "colab_type": "code",
        "colab": {
          "base_uri": "https://localhost:8080/",
          "height": 51
        },
        "outputId": "4a021c4a-96a4-4509-cbd3-f5d59bea63f8"
      },
      "source": [
        "import pandas as pd\n",
        "import numpy as np\n",
        "import seaborn as sns\n",
        "import torch\n",
        "import random\n",
        "import torch.nn as nn\n",
        "import torch.nn.functional as F\n",
        "import regex as re\n"
      ],
      "execution_count": 2,
      "outputs": [
        {
          "output_type": "stream",
          "text": [
            "/usr/local/lib/python3.6/dist-packages/statsmodels/tools/_testing.py:19: FutureWarning: pandas.util.testing is deprecated. Use the functions in the public API at pandas.testing instead.\n",
            "  import pandas.util.testing as tm\n"
          ],
          "name": "stderr"
        }
      ]
    },
    {
      "cell_type": "code",
      "metadata": {
        "id": "59jPlV09hf_j",
        "colab_type": "code",
        "colab": {
          "base_uri": "https://localhost:8080/",
          "height": 340
        },
        "outputId": "86ca8160-e25e-4510-d9be-bdffaecc8700"
      },
      "source": [
        "!pip install transformers"
      ],
      "execution_count": 3,
      "outputs": [
        {
          "output_type": "stream",
          "text": [
            "Requirement already satisfied: transformers in /usr/local/lib/python3.6/dist-packages (3.1.0)\n",
            "Requirement already satisfied: tqdm>=4.27 in /usr/local/lib/python3.6/dist-packages (from transformers) (4.41.1)\n",
            "Requirement already satisfied: sentencepiece!=0.1.92 in /usr/local/lib/python3.6/dist-packages (from transformers) (0.1.91)\n",
            "Requirement already satisfied: regex!=2019.12.17 in /usr/local/lib/python3.6/dist-packages (from transformers) (2019.12.20)\n",
            "Requirement already satisfied: tokenizers==0.8.1.rc2 in /usr/local/lib/python3.6/dist-packages (from transformers) (0.8.1rc2)\n",
            "Requirement already satisfied: dataclasses; python_version < \"3.7\" in /usr/local/lib/python3.6/dist-packages (from transformers) (0.7)\n",
            "Requirement already satisfied: packaging in /usr/local/lib/python3.6/dist-packages (from transformers) (20.4)\n",
            "Requirement already satisfied: numpy in /usr/local/lib/python3.6/dist-packages (from transformers) (1.18.5)\n",
            "Requirement already satisfied: requests in /usr/local/lib/python3.6/dist-packages (from transformers) (2.23.0)\n",
            "Requirement already satisfied: sacremoses in /usr/local/lib/python3.6/dist-packages (from transformers) (0.0.43)\n",
            "Requirement already satisfied: filelock in /usr/local/lib/python3.6/dist-packages (from transformers) (3.0.12)\n",
            "Requirement already satisfied: pyparsing>=2.0.2 in /usr/local/lib/python3.6/dist-packages (from packaging->transformers) (2.4.7)\n",
            "Requirement already satisfied: six in /usr/local/lib/python3.6/dist-packages (from packaging->transformers) (1.15.0)\n",
            "Requirement already satisfied: chardet<4,>=3.0.2 in /usr/local/lib/python3.6/dist-packages (from requests->transformers) (3.0.4)\n",
            "Requirement already satisfied: certifi>=2017.4.17 in /usr/local/lib/python3.6/dist-packages (from requests->transformers) (2020.6.20)\n",
            "Requirement already satisfied: urllib3!=1.25.0,!=1.25.1,<1.26,>=1.21.1 in /usr/local/lib/python3.6/dist-packages (from requests->transformers) (1.24.3)\n",
            "Requirement already satisfied: idna<3,>=2.5 in /usr/local/lib/python3.6/dist-packages (from requests->transformers) (2.10)\n",
            "Requirement already satisfied: joblib in /usr/local/lib/python3.6/dist-packages (from sacremoses->transformers) (0.16.0)\n",
            "Requirement already satisfied: click in /usr/local/lib/python3.6/dist-packages (from sacremoses->transformers) (7.1.2)\n"
          ],
          "name": "stdout"
        }
      ]
    },
    {
      "cell_type": "markdown",
      "metadata": {
        "id": "LQoqcKJ0h3DY",
        "colab_type": "text"
      },
      "source": [
        "Config :"
      ]
    },
    {
      "cell_type": "code",
      "metadata": {
        "id": "Hv0v4yMCia7P",
        "colab_type": "code",
        "colab": {}
      },
      "source": [
        "import transformers\n",
        "from torch.utils.data import Dataset, DataLoader\n"
      ],
      "execution_count": 4,
      "outputs": []
    },
    {
      "cell_type": "code",
      "metadata": {
        "id": "CvWbKPJXywKc",
        "colab_type": "code",
        "colab": {
          "base_uri": "https://localhost:8080/",
          "height": 34
        },
        "outputId": "42e09f93-4df3-4dde-b80a-bb8bf9eacb50"
      },
      "source": [
        "from google.colab import drive \n",
        "drive.mount(\"/content/drive\")"
      ],
      "execution_count": 5,
      "outputs": [
        {
          "output_type": "stream",
          "text": [
            "Drive already mounted at /content/drive; to attempt to forcibly remount, call drive.mount(\"/content/drive\", force_remount=True).\n"
          ],
          "name": "stdout"
        }
      ]
    },
    {
      "cell_type": "code",
      "metadata": {
        "id": "bXLx4f91i0ss",
        "colab_type": "code",
        "colab": {}
      },
      "source": [
        "sub = pd.read_csv('/content/Sample Submission.csv')\n",
        "train = pd.read_csv(\"/content/Train.csv\")\n",
        "test = pd.read_csv(\"/content/Test.csv\")"
      ],
      "execution_count": 6,
      "outputs": []
    },
    {
      "cell_type": "code",
      "metadata": {
        "id": "7_d8-JgqjREc",
        "colab_type": "code",
        "colab": {}
      },
      "source": [
        "ax = train.loc[:,'Product_Description']"
      ],
      "execution_count": 7,
      "outputs": []
    },
    {
      "cell_type": "code",
      "metadata": {
        "id": "DY5TKIagjkbq",
        "colab_type": "code",
        "colab": {
          "base_uri": "https://localhost:8080/",
          "height": 102
        },
        "outputId": "3a9476e2-9f38-4f42-9c14-59e70c24a9fc"
      },
      "source": [
        "for i in range(5):\n",
        "    print(ax[i])"
      ],
      "execution_count": 8,
      "outputs": [
        {
          "output_type": "stream",
          "text": [
            "The Web DesignerÛªs Guide to iOS (and Android) Apps, today @mention 10 a.m! {link} #sxsw\n",
            "RT @mention Line for iPad 2 is longer today than yesterday. #SXSW  // are you getting in line again today just for fun?\n",
            "Crazy that Apple is opening a temporary store in Austin tomorrow to handle the rabid #sxsw eye pad too seekers.\n",
            "The lesson from Google One Pass: In this digital environment, users want to purchase across every platform with one tool. #sxsw #elonsxsw\n",
            "RT @mention At the panel: &quot;Your mom has an ipad, designing for boomers&quot; #sxsw\n"
          ],
          "name": "stdout"
        }
      ]
    },
    {
      "cell_type": "code",
      "metadata": {
        "id": "Q6W44afMkZrt",
        "colab_type": "code",
        "colab": {
          "base_uri": "https://localhost:8080/",
          "height": 296
        },
        "outputId": "859a3cb3-f8a4-492b-c29a-e89a71ae20c1"
      },
      "source": [
        "sns.countplot(train['Sentiment'])"
      ],
      "execution_count": 9,
      "outputs": [
        {
          "output_type": "execute_result",
          "data": {
            "text/plain": [
              "<matplotlib.axes._subplots.AxesSubplot at 0x7f5e91a02d68>"
            ]
          },
          "metadata": {
            "tags": []
          },
          "execution_count": 9
        },
        {
          "output_type": "display_data",
          "data": {
            "image/png": "[encoded data removed]",
            "text/plain": [
              "<Figure size 432x288 with 1 Axes>"
            ]
          },
          "metadata": {
            "tags": [],
            "needs_background": "light"
          }
        }
      ]
    },
    {
      "cell_type": "markdown",
      "metadata": {
        "id": "bAnTk3pIlMUr",
        "colab_type": "text"
      },
      "source": [
        "Skewed Label Classes \n",
        "Startified K-fold for CV"
      ]
    },
    {
      "cell_type": "markdown",
      "metadata": {
        "id": "y7Pz91eZkiJm",
        "colab_type": "text"
      },
      "source": [
        "** Text Cleaning Is Required **\n",
        "\n",
        "Regex Cleaning"
      ]
    },
    {
      "cell_type": "code",
      "metadata": {
        "id": "8k9OQ8aPlBOw",
        "colab_type": "code",
        "colab": {}
      },
      "source": [
        "import string\n",
        "def remove_punctuation(text):\n",
        "    removed_punct = [ word for word in text if word not in string.punctuation]\n",
        "    final_word = \"\".join(removed_punct)\n",
        "    return final_word \n"
      ],
      "execution_count": 10,
      "outputs": []
    },
    {
      "cell_type": "code",
      "metadata": {
        "id": "GmwhUrmal-nZ",
        "colab_type": "code",
        "colab": {}
      },
      "source": [
        "train['review'] = train['Product_Description'].apply(lambda x: remove_punctuation(x))"
      ],
      "execution_count": 11,
      "outputs": []
    },
    {
      "cell_type": "code",
      "metadata": {
        "id": "NVnjH1ComCeK",
        "colab_type": "code",
        "colab": {}
      },
      "source": [
        "train.drop('Product_Description',axis=1,inplace=True)"
      ],
      "execution_count": 12,
      "outputs": []
    },
    {
      "cell_type": "code",
      "metadata": {
        "id": "MYH5zJ1Rpa_t",
        "colab_type": "code",
        "colab": {
          "base_uri": "https://localhost:8080/",
          "height": 204
        },
        "outputId": "5a2315a2-1b3c-4026-8b8f-bc8cb06035c6"
      },
      "source": [
        "train.head()"
      ],
      "execution_count": 13,
      "outputs": [
        {
          "output_type": "execute_result",
          "data": {
            "text/html": [
              "<div>\n",
              "<style scoped>\n",
              "    .dataframe tbody tr th:only-of-type {\n",
              "        vertical-align: middle;\n",
              "    }\n",
              "\n",
              "    .dataframe tbody tr th {\n",
              "        vertical-align: top;\n",
              "    }\n",
              "\n",
              "    .dataframe thead th {\n",
              "        text-align: right;\n",
              "    }\n",
              "</style>\n",
              "<table border=\"1\" class=\"dataframe\">\n",
              "  <thead>\n",
              "    <tr style=\"text-align: right;\">\n",
              "      <th></th>\n",
              "      <th>Text_ID</th>\n",
              "      <th>Product_Type</th>\n",
              "      <th>Sentiment</th>\n",
              "      <th>review</th>\n",
              "    </tr>\n",
              "  </thead>\n",
              "  <tbody>\n",
              "    <tr>\n",
              "      <th>0</th>\n",
              "      <td>3057</td>\n",
              "      <td>9</td>\n",
              "      <td>2</td>\n",
              "      <td>The Web DesignerÛªs Guide to iOS and Android ...</td>\n",
              "    </tr>\n",
              "    <tr>\n",
              "      <th>1</th>\n",
              "      <td>6254</td>\n",
              "      <td>9</td>\n",
              "      <td>2</td>\n",
              "      <td>RT mention Line for iPad 2 is longer today tha...</td>\n",
              "    </tr>\n",
              "    <tr>\n",
              "      <th>2</th>\n",
              "      <td>8212</td>\n",
              "      <td>9</td>\n",
              "      <td>2</td>\n",
              "      <td>Crazy that Apple is opening a temporary store ...</td>\n",
              "    </tr>\n",
              "    <tr>\n",
              "      <th>3</th>\n",
              "      <td>4422</td>\n",
              "      <td>9</td>\n",
              "      <td>2</td>\n",
              "      <td>The lesson from Google One Pass In this digita...</td>\n",
              "    </tr>\n",
              "    <tr>\n",
              "      <th>4</th>\n",
              "      <td>5526</td>\n",
              "      <td>9</td>\n",
              "      <td>2</td>\n",
              "      <td>RT mention At the panel quotYour mom has an ip...</td>\n",
              "    </tr>\n",
              "  </tbody>\n",
              "</table>\n",
              "</div>"
            ],
            "text/plain": [
              "   Text_ID  ...                                             review\n",
              "0     3057  ...  The Web DesignerÛªs Guide to iOS and Android ...\n",
              "1     6254  ...  RT mention Line for iPad 2 is longer today tha...\n",
              "2     8212  ...  Crazy that Apple is opening a temporary store ...\n",
              "3     4422  ...  The lesson from Google One Pass In this digita...\n",
              "4     5526  ...  RT mention At the panel quotYour mom has an ip...\n",
              "\n",
              "[5 rows x 4 columns]"
            ]
          },
          "metadata": {
            "tags": []
          },
          "execution_count": 13
        }
      ]
    },
    {
      "cell_type": "code",
      "metadata": {
        "id": "fBfHyZDmnEdJ",
        "colab_type": "code",
        "colab": {}
      },
      "source": [
        "test['review'] = test['Product_Description'].apply(lambda x: remove_punctuation(x))"
      ],
      "execution_count": 14,
      "outputs": []
    },
    {
      "cell_type": "code",
      "metadata": {
        "id": "crEbQmgMPm_-",
        "colab_type": "code",
        "colab": {
          "base_uri": "https://localhost:8080/",
          "height": 34
        },
        "outputId": "a74d51d1-2ad8-442f-c2a9-ea70e4d92d24"
      },
      "source": [
        "train.shape"
      ],
      "execution_count": 15,
      "outputs": [
        {
          "output_type": "execute_result",
          "data": {
            "text/plain": [
              "(6364, 4)"
            ]
          },
          "metadata": {
            "tags": []
          },
          "execution_count": 15
        }
      ]
    },
    {
      "cell_type": "code",
      "metadata": {
        "id": "gDAA8SCvnOKU",
        "colab_type": "code",
        "colab": {}
      },
      "source": [
        "test.drop(\"Product_Description\",axis=1,inplace=True)"
      ],
      "execution_count": 16,
      "outputs": []
    },
    {
      "cell_type": "code",
      "metadata": {
        "id": "MU8dHWeepgCT",
        "colab_type": "code",
        "colab": {}
      },
      "source": [
        "train.drop('Text_ID',axis=1,inplace=True)"
      ],
      "execution_count": 17,
      "outputs": []
    },
    {
      "cell_type": "code",
      "metadata": {
        "id": "I2WuG89ryqgE",
        "colab_type": "code",
        "colab": {
          "base_uri": "https://localhost:8080/",
          "height": 282
        },
        "outputId": "b04f77bb-418b-47a0-b533-e7d2eb79f9c2"
      },
      "source": [
        "token_lens=[]\n",
        "\n",
        "for text in train.review:\n",
        "    tok = tokenizer.encode(text)\n",
        "    token_lens.append(len(tok))\n",
        "\n",
        "sns.distplot(token_lens)\n",
        "print(max(token_lens))"
      ],
      "execution_count": 21,
      "outputs": [
        {
          "output_type": "stream",
          "text": [
            "50\n"
          ],
          "name": "stdout"
        },
        {
          "output_type": "display_data",
          "data": {
            "image/png": "[encoded data removed]",
            "text/plain": [
              "<Figure size 432x288 with 1 Axes>"
            ]
          },
          "metadata": {
            "tags": [],
            "needs_background": "light"
          }
        }
      ]
    },
    {
      "cell_type": "code",
      "metadata": {
        "id": "L6SnVuBm-11P",
        "colab_type": "code",
        "colab": {}
      },
      "source": [
        "DEVICE = 'cuda'\n",
        "bert_path = 'bert-base-uncased'\n",
        "tokenizer = transformers.BertTokenizer.from_pretrained(bert_path,do_lower_case=True)\n",
        "MAX_LEN = 64\n",
        "train_batch_size = 8\n",
        "valid_batch_size = 4\n"
      ],
      "execution_count": 19,
      "outputs": []
    },
    {
      "cell_type": "code",
      "metadata": {
        "id": "4gyiGpLs-Rox",
        "colab_type": "code",
        "colab": {}
      },
      "source": [
        "class BertDataset(Dataset):\n",
        "    def __init__(self,reviews,targets):\n",
        "        self.reviews=reviews\n",
        "        self.tokenizer = tokenizer\n",
        "        self.targets = targets # have a doubt over this \n",
        "        self.max_len = MAX_LEN\n",
        "        \n",
        "    def __len__(self):\n",
        "        return len(self.reviews)\n",
        "\n",
        "\n",
        "    def __getitem__(self,item):\n",
        "        review = str(self.reviews[item])\n",
        "      #  review = \"\".join(review.split())\n",
        "        inputs = self.tokenizer.encode_plus( \n",
        "            review,\n",
        "            add_special_tokens=True,\n",
        "            max_length=self.max_len,\n",
        "            return_token_type_ids=False,\n",
        "            pad_to_max_length=True,\n",
        "            return_attention_mask=True,\n",
        "            return_tensors='pt',\n",
        "            truncation = True\n",
        "        )\n",
        "        target = self.targets[item]\n",
        "\n",
        "\n",
        "        ids =  inputs['input_ids']\n",
        "        mask = inputs['attention_mask']\n",
        "\n",
        "\n",
        "\n",
        "        return {\n",
        "            'review_text':review,\n",
        "            'ids':inputs['input_ids'].flatten(),\n",
        "            'mask':inputs['attention_mask'].flatten(),\n",
        "            'target':torch.tensor(target,dtype=torch.long)\n",
        "        }"
      ],
      "execution_count": 22,
      "outputs": []
    },
    {
      "cell_type": "code",
      "metadata": {
        "id": "-nhiChq8PUQr",
        "colab_type": "code",
        "colab": {}
      },
      "source": [
        "from sklearn.model_selection import train_test_split\n",
        "df_train,df_valid = train_test_split(train,test_size=0.1,random_state=42,stratify = train['Sentiment'])\n"
      ],
      "execution_count": 23,
      "outputs": []
    },
    {
      "cell_type": "code",
      "metadata": {
        "id": "1il-1DkKDbQf",
        "colab_type": "code",
        "colab": {}
      },
      "source": [
        "df_train = df_train.reset_index(drop=True)\n",
        "df_valid = df_valid.reset_index(drop=True)"
      ],
      "execution_count": 24,
      "outputs": []
    },
    {
      "cell_type": "code",
      "metadata": {
        "id": "hUT4ctCLsSLR",
        "colab_type": "code",
        "colab": {}
      },
      "source": [
        ""
      ],
      "execution_count": 24,
      "outputs": []
    },
    {
      "cell_type": "code",
      "metadata": {
        "id": "bs2xLzn-Dmbx",
        "colab_type": "code",
        "colab": {}
      },
      "source": [
        "train_dataset = BertDataset(reviews=df_train.review.values,targets=df_train.Sentiment.values)\n",
        "valid_dataset = BertDataset(reviews=df_valid.review.values,targets=df_valid.Sentiment.values)\n",
        "\n",
        "train_dataloader = DataLoader(train_dataset,batch_size=train_batch_size,num_workers=4)\n",
        "valid_dataloader = DataLoader(valid_dataset,batch_size=valid_batch_size,num_workers=1)"
      ],
      "execution_count": 25,
      "outputs": []
    },
    {
      "cell_type": "code",
      "metadata": {
        "id": "AninwJyC0bJO",
        "colab_type": "code",
        "colab": {
          "base_uri": "https://localhost:8080/",
          "height": 190
        },
        "outputId": "e949e5db-a0e9-49ff-e694-9f5d8917f880"
      },
      "source": [
        "# Example Batch :\n",
        "\n",
        "exam = next(iter(train_dataloader))\n",
        "exam.keys()"
      ],
      "execution_count": 26,
      "outputs": [
        {
          "output_type": "stream",
          "text": [
            "/usr/local/lib/python3.6/dist-packages/transformers/tokenization_utils_base.py:1770: FutureWarning: The `pad_to_max_length` argument is deprecated and will be removed in a future version, use `padding=True` or `padding='longest'` to pad to the longest sequence in the batch, or use `padding='max_length'` to pad to a max length. In this case, you can give a specific length with `max_length` (e.g. `max_length=45`) or leave max_length to None to pad to the maximal input size of the model (e.g. 512 for Bert).\n",
            "  FutureWarning,\n",
            "/usr/local/lib/python3.6/dist-packages/transformers/tokenization_utils_base.py:1770: FutureWarning: The `pad_to_max_length` argument is deprecated and will be removed in a future version, use `padding=True` or `padding='longest'` to pad to the longest sequence in the batch, or use `padding='max_length'` to pad to a max length. In this case, you can give a specific length with `max_length` (e.g. `max_length=45`) or leave max_length to None to pad to the maximal input size of the model (e.g. 512 for Bert).\n",
            "  FutureWarning,\n",
            "/usr/local/lib/python3.6/dist-packages/transformers/tokenization_utils_base.py:1770: FutureWarning: The `pad_to_max_length` argument is deprecated and will be removed in a future version, use `padding=True` or `padding='longest'` to pad to the longest sequence in the batch, or use `padding='max_length'` to pad to a max length. In this case, you can give a specific length with `max_length` (e.g. `max_length=45`) or leave max_length to None to pad to the maximal input size of the model (e.g. 512 for Bert).\n",
            "  FutureWarning,\n",
            "/usr/local/lib/python3.6/dist-packages/transformers/tokenization_utils_base.py:1770: FutureWarning: The `pad_to_max_length` argument is deprecated and will be removed in a future version, use `padding=True` or `padding='longest'` to pad to the longest sequence in the batch, or use `padding='max_length'` to pad to a max length. In this case, you can give a specific length with `max_length` (e.g. `max_length=45`) or leave max_length to None to pad to the maximal input size of the model (e.g. 512 for Bert).\n",
            "  FutureWarning,\n"
          ],
          "name": "stderr"
        },
        {
          "output_type": "execute_result",
          "data": {
            "text/plain": [
              "dict_keys(['review_text', 'ids', 'mask', 'target'])"
            ]
          },
          "metadata": {
            "tags": []
          },
          "execution_count": 26
        }
      ]
    },
    {
      "cell_type": "code",
      "metadata": {
        "id": "V1VE3Rv12jSM",
        "colab_type": "code",
        "colab": {
          "base_uri": "https://localhost:8080/",
          "height": 68
        },
        "outputId": "17c7c07b-4c6a-4490-cf91-22b370c068bc"
      },
      "source": [
        "print(exam['ids'].shape)\n",
        "print(exam['mask'].shape)\n",
        "print(exam['target'].shape)"
      ],
      "execution_count": 27,
      "outputs": [
        {
          "output_type": "stream",
          "text": [
            "torch.Size([8, 64])\n",
            "torch.Size([8, 64])\n",
            "torch.Size([8])\n"
          ],
          "name": "stdout"
        }
      ]
    },
    {
      "cell_type": "markdown",
      "metadata": {
        "id": "0UYwGDjh289X",
        "colab_type": "text"
      },
      "source": [
        "Now till here we can infer that our DataLoader/Dataset is working FINE ...."
      ]
    },
    {
      "cell_type": "code",
      "metadata": {
        "id": "s6yaPa7bE8Cr",
        "colab_type": "code",
        "colab": {}
      },
      "source": [
        "class BertModel(nn.Module):\n",
        "    def __init__(self):\n",
        "        super(BertModel,self).__init__()\n",
        "        self.bert = transformers.BertModel.from_pretrained(bert_path)\n",
        "        self.drop = nn.Dropout(0.1)\n",
        "        self.out = nn.Linear(768,4)\n",
        "        \n",
        "    def forward(self,ids,mask):\n",
        "        _,o2 = self.bert(ids,attention_mask=mask)\n",
        "        bo = self.drop(o2)\n",
        "        output = self.out(bo)\n",
        "        return output"
      ],
      "execution_count": 53,
      "outputs": []
    },
    {
      "cell_type": "code",
      "metadata": {
        "id": "G-RjgKfXGlJe",
        "colab_type": "code",
        "colab": {}
      },
      "source": [
        "model = BertModel()"
      ],
      "execution_count": 54,
      "outputs": []
    },
    {
      "cell_type": "code",
      "metadata": {
        "id": "fTp58hTsCA24",
        "colab_type": "code",
        "colab": {}
      },
      "source": [
        "model = model.to(DEVICE)"
      ],
      "execution_count": 55,
      "outputs": []
    },
    {
      "cell_type": "markdown",
      "metadata": {
        "id": "XttSt_IJG8vR",
        "colab_type": "text"
      },
      "source": [
        "Move all to GPU"
      ]
    },
    {
      "cell_type": "markdown",
      "metadata": {
        "id": "fvkqfJ8VMXY_",
        "colab_type": "text"
      },
      "source": [
        "\n",
        "\n",
        "1.   LEARN TO USE TQDM\n",
        "\n",
        "\n"
      ]
    },
    {
      "cell_type": "code",
      "metadata": {
        "id": "kTZzz-X0GsbN",
        "colab_type": "code",
        "colab": {
          "base_uri": "https://localhost:8080/",
          "height": 34
        },
        "outputId": "1f5cea71-3282-4b72-ac78-dfc699d5b1f2"
      },
      "source": [
        "# EXAMPLE :\n",
        "ids = exam['ids'].to(DEVICE)\n",
        "mask = exam['mask'].to(DEVICE)\n",
        "print(ids.shape)"
      ],
      "execution_count": 32,
      "outputs": [
        {
          "output_type": "stream",
          "text": [
            "torch.Size([8, 64])\n"
          ],
          "name": "stdout"
        }
      ]
    },
    {
      "cell_type": "code",
      "metadata": {
        "id": "PC1L9hU4CxlS",
        "colab_type": "code",
        "colab": {
          "base_uri": "https://localhost:8080/",
          "height": 204
        },
        "outputId": "c506ea4a-2b7d-43f1-d90c-80fc03cb660d"
      },
      "source": [
        "x= (model(ids,mask))\n",
        "#print(model(ids,mask))\n",
        "print(x)\n",
        "#print(x.shape)\n",
        "torch.max(x,dim=1\n",
        "          )"
      ],
      "execution_count": 95,
      "outputs": [
        {
          "output_type": "stream",
          "text": [
            "tensor([[-1.0419, -2.3395,  3.8415, -0.5955],\n",
            "        [-0.8687, -2.5651, -0.9116,  5.2733],\n",
            "        [-1.8754, -3.9308,  3.6802,  1.7517],\n",
            "        [-1.9340, -3.8975,  3.8293,  2.0463],\n",
            "        [-1.9291, -3.8285,  3.4014,  1.8849],\n",
            "        [-0.9461, -2.6454, -0.9023,  5.0187],\n",
            "        [-1.8419, -3.9053,  4.2601,  1.6035],\n",
            "        [ 0.2037,  0.8619,  1.5382, -3.4882]], device='cuda:0',\n",
            "       grad_fn=<AddmmBackward>)\n"
          ],
          "name": "stdout"
        },
        {
          "output_type": "execute_result",
          "data": {
            "text/plain": [
              "torch.return_types.max(values=tensor([3.8415, 5.2733, 3.6802, 3.8293, 3.4014, 5.0187, 4.2601, 1.5382],\n",
              "       device='cuda:0', grad_fn=<MaxBackward0>), indices=tensor([2, 3, 2, 2, 2, 3, 2, 2], device='cuda:0'))"
            ]
          },
          "metadata": {
            "tags": []
          },
          "execution_count": 95
        }
      ]
    },
    {
      "cell_type": "code",
      "metadata": {
        "id": "zLcObkGdH50F",
        "colab_type": "code",
        "colab": {}
      },
      "source": [
        "loss_fn = nn.CrossEntropyLoss().to(DEVICE)\n",
        "epochs = 5\n",
        "optimizer =  AdamW(model.parameters(), lr=2e-5, correct_bias=False)\n",
        "total_steps = len(train_dataloader) * epochs\n",
        "\n",
        "scheduler = get_linear_schedule_with_warmup(\n",
        "  optimizer,\n",
        "  num_warmup_steps=0,\n",
        "  num_training_steps=total_steps\n",
        ")\n"
      ],
      "execution_count": 56,
      "outputs": []
    },
    {
      "cell_type": "code",
      "metadata": {
        "id": "GaZP1zIhIdif",
        "colab_type": "code",
        "colab": {}
      },
      "source": [
        "def train_fn(data_loader,model,optimizer,loss_fn,device,scheduler,n_examples):\n",
        "    model = model.train()\n",
        "    losses = []\n",
        "    correct_predictions = 0\n",
        "    tkt = tqdm(data_loader,total = len(data_loader))\n",
        "    for d in tkt:\n",
        "        ids = d['ids'].to(device)\n",
        "        mask = d['mask'].to(device)\n",
        "        targets = d['target'].to(device)\n",
        "\n",
        "        outputs = model(ids=ids,mask=mask)\n",
        "        _, preds = torch.max(outputs, dim=1)\n",
        "        loss = loss_fn(outputs,targets)\n",
        "\n",
        "        correct_predictions += torch.sum(preds==targets)\n",
        "        losses.append(loss.item())\n",
        "    \n",
        "        loss.backward()\n",
        "        optimizer.step()\n",
        "        scheduler.step()\n",
        "        optimizer.zero_grad()\n",
        "\n",
        "    #print(f\"Individual Training Losses {loss.item()} \" )\n",
        "    return correct_predictions.double() / n_examples, np.mean(losses)\n",
        "\n"
      ],
      "execution_count": 57,
      "outputs": []
    },
    {
      "cell_type": "code",
      "metadata": {
        "id": "kGRN4bFjI1tU",
        "colab_type": "code",
        "colab": {}
      },
      "source": [
        "def eval_fn(data_loader,model,device,loss_fn,n_examples):\n",
        "    model = model.eval()\n",
        "    losses= []\n",
        "    correct_predictions = 0\n",
        "    with torch.no_grad():\n",
        "        tke = tqdm(data_loader,total = len(data_loader))\n",
        "        for d in tke:\n",
        "            ids = d['ids'].to(device)\n",
        "            mask = d['mask'].to(device)\n",
        "            targets = d['target'].to(device)\n",
        "\n",
        "            outputs = model(ids=ids,mask=mask)\n",
        "            _,preds = torch.max(outputs,dim=1)\n",
        "\n",
        "            loss = loss_fn(outputs,targets)\n",
        "\n",
        "\n",
        "            correct_predictions += torch.sum(preds == targets)\n",
        "            losses.append(loss.item())\n",
        "           # print(f\"Individual Evaluation Losses {loss.item()} \" )\n",
        "\n",
        "    return correct_predictions.double() / n_examples, np.mean(losses)\n",
        "\n"
      ],
      "execution_count": 58,
      "outputs": []
    },
    {
      "cell_type": "code",
      "metadata": {
        "id": "0jeuAVwYKVhe",
        "colab_type": "code",
        "colab": {}
      },
      "source": [
        "from sklearn import metrics\n",
        "from transformers import AdamW\n",
        "from transformers import get_linear_schedule_with_warmup"
      ],
      "execution_count": 59,
      "outputs": []
    },
    {
      "cell_type": "code",
      "metadata": {
        "id": "j6QF44kkF0q8",
        "colab_type": "code",
        "colab": {}
      },
      "source": [
        "from collections import defaultdict"
      ],
      "execution_count": 60,
      "outputs": []
    },
    {
      "cell_type": "markdown",
      "metadata": {
        "id": "YZAIA-JoKXGK",
        "colab_type": "text"
      },
      "source": [
        "Now the Almighty Training Loop"
      ]
    },
    {
      "cell_type": "code",
      "metadata": {
        "id": "lqSTK5frKQbi",
        "colab_type": "code",
        "colab": {}
      },
      "source": [
        "def run():\n",
        "\n",
        "    history = defaultdict(list)\n",
        "    best_accuracy = 0\n",
        "\n",
        "    for epoch in range(epochs):\n",
        "        print(f\"Epoch {epoch+1} /{epochs}\")\n",
        "        print('-' * 10)\n",
        "        \n",
        "\n",
        "        train_acc,train_loss = train_fn(train_dataloader,model,optimizer,loss_fn,DEVICE,scheduler,len(df_train))\n",
        "        \n",
        "        print(f\"Training Losses {train_loss} accuracy {train_acc}\")\n",
        "        \n",
        "\n",
        "        eval_acc,eval_loss = eval_fn(valid_dataloader,model,DEVICE,loss_fn,len(df_valid))\n",
        "\n",
        "        print(f'Val loss {eval_loss} accuracy {eval_acc}')\n",
        "        print()\n",
        "\n",
        "        history['train_acc'].append(train_acc)\n",
        "        history['train_loss'].append(train_loss)\n",
        "        history['eval_acc'].append(eval_acc)\n",
        "        history['eval_loss'].append(eval_loss)\n",
        "\n",
        "        if eval_acc > best_accuracy:\n",
        "            torch.save(model.state_dict(), 'best_model_state.bin')\n",
        "            best_accuracy = eval_acc\n"
      ],
      "execution_count": 61,
      "outputs": []
    },
    {
      "cell_type": "code",
      "metadata": {
        "id": "i2HHSUTzLPMl",
        "colab_type": "code",
        "colab": {
          "base_uri": "https://localhost:8080/",
          "height": 1000
        },
        "outputId": "5bb82b60-3ade-400d-ada6-77f58bc1b8d5"
      },
      "source": [
        "run()"
      ],
      "execution_count": 62,
      "outputs": [
        {
          "output_type": "stream",
          "text": [
            "\r  0%|          | 0/716 [00:00<?, ?it/s]"
          ],
          "name": "stderr"
        },
        {
          "output_type": "stream",
          "text": [
            "Epoch 1 /5\n",
            "----------\n"
          ],
          "name": "stdout"
        },
        {
          "output_type": "stream",
          "text": [
            "/usr/local/lib/python3.6/dist-packages/transformers/tokenization_utils_base.py:1770: FutureWarning: The `pad_to_max_length` argument is deprecated and will be removed in a future version, use `padding=True` or `padding='longest'` to pad to the longest sequence in the batch, or use `padding='max_length'` to pad to a max length. In this case, you can give a specific length with `max_length` (e.g. `max_length=45`) or leave max_length to None to pad to the maximal input size of the model (e.g. 512 for Bert).\n",
            "  FutureWarning,\n",
            "/usr/local/lib/python3.6/dist-packages/transformers/tokenization_utils_base.py:1770: FutureWarning: The `pad_to_max_length` argument is deprecated and will be removed in a future version, use `padding=True` or `padding='longest'` to pad to the longest sequence in the batch, or use `padding='max_length'` to pad to a max length. In this case, you can give a specific length with `max_length` (e.g. `max_length=45`) or leave max_length to None to pad to the maximal input size of the model (e.g. 512 for Bert).\n",
            "  FutureWarning,\n",
            "/usr/local/lib/python3.6/dist-packages/transformers/tokenization_utils_base.py:1770: FutureWarning: The `pad_to_max_length` argument is deprecated and will be removed in a future version, use `padding=True` or `padding='longest'` to pad to the longest sequence in the batch, or use `padding='max_length'` to pad to a max length. In this case, you can give a specific length with `max_length` (e.g. `max_length=45`) or leave max_length to None to pad to the maximal input size of the model (e.g. 512 for Bert).\n",
            "  FutureWarning,\n",
            "/usr/local/lib/python3.6/dist-packages/transformers/tokenization_utils_base.py:1770: FutureWarning: The `pad_to_max_length` argument is deprecated and will be removed in a future version, use `padding=True` or `padding='longest'` to pad to the longest sequence in the batch, or use `padding='max_length'` to pad to a max length. In this case, you can give a specific length with `max_length` (e.g. `max_length=45`) or leave max_length to None to pad to the maximal input size of the model (e.g. 512 for Bert).\n",
            "  FutureWarning,\n",
            "100%|██████████| 716/716 [00:53<00:00, 13.46it/s]\n",
            "  0%|          | 0/160 [00:00<?, ?it/s]"
          ],
          "name": "stderr"
        },
        {
          "output_type": "stream",
          "text": [
            "Training Losses 0.8602318079861183 accuracy 0.6245852977125894\n"
          ],
          "name": "stdout"
        },
        {
          "output_type": "stream",
          "text": [
            "/usr/local/lib/python3.6/dist-packages/transformers/tokenization_utils_base.py:1770: FutureWarning: The `pad_to_max_length` argument is deprecated and will be removed in a future version, use `padding=True` or `padding='longest'` to pad to the longest sequence in the batch, or use `padding='max_length'` to pad to a max length. In this case, you can give a specific length with `max_length` (e.g. `max_length=45`) or leave max_length to None to pad to the maximal input size of the model (e.g. 512 for Bert).\n",
            "  FutureWarning,\n",
            "100%|██████████| 160/160 [00:02<00:00, 66.46it/s]\n"
          ],
          "name": "stderr"
        },
        {
          "output_type": "stream",
          "text": [
            "Val loss 0.8016556500457227 accuracy 0.6248037676609105\n",
            "\n"
          ],
          "name": "stdout"
        },
        {
          "output_type": "stream",
          "text": [
            "\r  0%|          | 0/716 [00:00<?, ?it/s]"
          ],
          "name": "stderr"
        },
        {
          "output_type": "stream",
          "text": [
            "Epoch 2 /5\n",
            "----------\n"
          ],
          "name": "stdout"
        },
        {
          "output_type": "stream",
          "text": [
            "/usr/local/lib/python3.6/dist-packages/transformers/tokenization_utils_base.py:1770: FutureWarning: The `pad_to_max_length` argument is deprecated and will be removed in a future version, use `padding=True` or `padding='longest'` to pad to the longest sequence in the batch, or use `padding='max_length'` to pad to a max length. In this case, you can give a specific length with `max_length` (e.g. `max_length=45`) or leave max_length to None to pad to the maximal input size of the model (e.g. 512 for Bert).\n",
            "  FutureWarning,\n",
            "/usr/local/lib/python3.6/dist-packages/transformers/tokenization_utils_base.py:1770: FutureWarning: The `pad_to_max_length` argument is deprecated and will be removed in a future version, use `padding=True` or `padding='longest'` to pad to the longest sequence in the batch, or use `padding='max_length'` to pad to a max length. In this case, you can give a specific length with `max_length` (e.g. `max_length=45`) or leave max_length to None to pad to the maximal input size of the model (e.g. 512 for Bert).\n",
            "  FutureWarning,\n",
            "/usr/local/lib/python3.6/dist-packages/transformers/tokenization_utils_base.py:1770: FutureWarning: The `pad_to_max_length` argument is deprecated and will be removed in a future version, use `padding=True` or `padding='longest'` to pad to the longest sequence in the batch, or use `padding='max_length'` to pad to a max length. In this case, you can give a specific length with `max_length` (e.g. `max_length=45`) or leave max_length to None to pad to the maximal input size of the model (e.g. 512 for Bert).\n",
            "  FutureWarning,\n",
            "/usr/local/lib/python3.6/dist-packages/transformers/tokenization_utils_base.py:1770: FutureWarning: The `pad_to_max_length` argument is deprecated and will be removed in a future version, use `padding=True` or `padding='longest'` to pad to the longest sequence in the batch, or use `padding='max_length'` to pad to a max length. In this case, you can give a specific length with `max_length` (e.g. `max_length=45`) or leave max_length to None to pad to the maximal input size of the model (e.g. 512 for Bert).\n",
            "  FutureWarning,\n",
            "100%|██████████| 716/716 [00:53<00:00, 13.50it/s]\n",
            "  0%|          | 0/160 [00:00<?, ?it/s]"
          ],
          "name": "stderr"
        },
        {
          "output_type": "stream",
          "text": [
            "Training Losses 0.6260975821973891 accuracy 0.753448576916361\n"
          ],
          "name": "stdout"
        },
        {
          "output_type": "stream",
          "text": [
            "/usr/local/lib/python3.6/dist-packages/transformers/tokenization_utils_base.py:1770: FutureWarning: The `pad_to_max_length` argument is deprecated and will be removed in a future version, use `padding=True` or `padding='longest'` to pad to the longest sequence in the batch, or use `padding='max_length'` to pad to a max length. In this case, you can give a specific length with `max_length` (e.g. `max_length=45`) or leave max_length to None to pad to the maximal input size of the model (e.g. 512 for Bert).\n",
            "  FutureWarning,\n",
            "100%|██████████| 160/160 [00:02<00:00, 66.56it/s]\n"
          ],
          "name": "stderr"
        },
        {
          "output_type": "stream",
          "text": [
            "Val loss 0.8070500325877219 accuracy 0.6624803767660911\n",
            "\n"
          ],
          "name": "stdout"
        },
        {
          "output_type": "stream",
          "text": [
            "\r  0%|          | 0/716 [00:00<?, ?it/s]"
          ],
          "name": "stderr"
        },
        {
          "output_type": "stream",
          "text": [
            "Epoch 3 /5\n",
            "----------\n"
          ],
          "name": "stdout"
        },
        {
          "output_type": "stream",
          "text": [
            "/usr/local/lib/python3.6/dist-packages/transformers/tokenization_utils_base.py:1770: FutureWarning: The `pad_to_max_length` argument is deprecated and will be removed in a future version, use `padding=True` or `padding='longest'` to pad to the longest sequence in the batch, or use `padding='max_length'` to pad to a max length. In this case, you can give a specific length with `max_length` (e.g. `max_length=45`) or leave max_length to None to pad to the maximal input size of the model (e.g. 512 for Bert).\n",
            "  FutureWarning,\n",
            "/usr/local/lib/python3.6/dist-packages/transformers/tokenization_utils_base.py:1770: FutureWarning: The `pad_to_max_length` argument is deprecated and will be removed in a future version, use `padding=True` or `padding='longest'` to pad to the longest sequence in the batch, or use `padding='max_length'` to pad to a max length. In this case, you can give a specific length with `max_length` (e.g. `max_length=45`) or leave max_length to None to pad to the maximal input size of the model (e.g. 512 for Bert).\n",
            "  FutureWarning,\n",
            "/usr/local/lib/python3.6/dist-packages/transformers/tokenization_utils_base.py:1770: FutureWarning: The `pad_to_max_length` argument is deprecated and will be removed in a future version, use `padding=True` or `padding='longest'` to pad to the longest sequence in the batch, or use `padding='max_length'` to pad to a max length. In this case, you can give a specific length with `max_length` (e.g. `max_length=45`) or leave max_length to None to pad to the maximal input size of the model (e.g. 512 for Bert).\n",
            "  FutureWarning,\n",
            "/usr/local/lib/python3.6/dist-packages/transformers/tokenization_utils_base.py:1770: FutureWarning: The `pad_to_max_length` argument is deprecated and will be removed in a future version, use `padding=True` or `padding='longest'` to pad to the longest sequence in the batch, or use `padding='max_length'` to pad to a max length. In this case, you can give a specific length with `max_length` (e.g. `max_length=45`) or leave max_length to None to pad to the maximal input size of the model (e.g. 512 for Bert).\n",
            "  FutureWarning,\n",
            "100%|██████████| 716/716 [00:52<00:00, 13.52it/s]\n",
            "  0%|          | 0/160 [00:00<?, ?it/s]"
          ],
          "name": "stderr"
        },
        {
          "output_type": "stream",
          "text": [
            "Training Losses 0.41157614385615515 accuracy 0.8505325650427797\n"
          ],
          "name": "stdout"
        },
        {
          "output_type": "stream",
          "text": [
            "/usr/local/lib/python3.6/dist-packages/transformers/tokenization_utils_base.py:1770: FutureWarning: The `pad_to_max_length` argument is deprecated and will be removed in a future version, use `padding=True` or `padding='longest'` to pad to the longest sequence in the batch, or use `padding='max_length'` to pad to a max length. In this case, you can give a specific length with `max_length` (e.g. `max_length=45`) or leave max_length to None to pad to the maximal input size of the model (e.g. 512 for Bert).\n",
            "  FutureWarning,\n",
            "100%|██████████| 160/160 [00:02<00:00, 65.67it/s]\n"
          ],
          "name": "stderr"
        },
        {
          "output_type": "stream",
          "text": [
            "Val loss 0.9261689843609929 accuracy 0.6640502354788069\n",
            "\n"
          ],
          "name": "stdout"
        },
        {
          "output_type": "stream",
          "text": [
            "\r  0%|          | 0/716 [00:00<?, ?it/s]"
          ],
          "name": "stderr"
        },
        {
          "output_type": "stream",
          "text": [
            "Epoch 4 /5\n",
            "----------\n"
          ],
          "name": "stdout"
        },
        {
          "output_type": "stream",
          "text": [
            "/usr/local/lib/python3.6/dist-packages/transformers/tokenization_utils_base.py:1770: FutureWarning: The `pad_to_max_length` argument is deprecated and will be removed in a future version, use `padding=True` or `padding='longest'` to pad to the longest sequence in the batch, or use `padding='max_length'` to pad to a max length. In this case, you can give a specific length with `max_length` (e.g. `max_length=45`) or leave max_length to None to pad to the maximal input size of the model (e.g. 512 for Bert).\n",
            "  FutureWarning,\n",
            "/usr/local/lib/python3.6/dist-packages/transformers/tokenization_utils_base.py:1770: FutureWarning: The `pad_to_max_length` argument is deprecated and will be removed in a future version, use `padding=True` or `padding='longest'` to pad to the longest sequence in the batch, or use `padding='max_length'` to pad to a max length. In this case, you can give a specific length with `max_length` (e.g. `max_length=45`) or leave max_length to None to pad to the maximal input size of the model (e.g. 512 for Bert).\n",
            "  FutureWarning,\n",
            "/usr/local/lib/python3.6/dist-packages/transformers/tokenization_utils_base.py:1770: FutureWarning: The `pad_to_max_length` argument is deprecated and will be removed in a future version, use `padding=True` or `padding='longest'` to pad to the longest sequence in the batch, or use `padding='max_length'` to pad to a max length. In this case, you can give a specific length with `max_length` (e.g. `max_length=45`) or leave max_length to None to pad to the maximal input size of the model (e.g. 512 for Bert).\n",
            "  FutureWarning,\n",
            "/usr/local/lib/python3.6/dist-packages/transformers/tokenization_utils_base.py:1770: FutureWarning: The `pad_to_max_length` argument is deprecated and will be removed in a future version, use `padding=True` or `padding='longest'` to pad to the longest sequence in the batch, or use `padding='max_length'` to pad to a max length. In this case, you can give a specific length with `max_length` (e.g. `max_length=45`) or leave max_length to None to pad to the maximal input size of the model (e.g. 512 for Bert).\n",
            "  FutureWarning,\n",
            "100%|██████████| 716/716 [00:53<00:00, 13.50it/s]\n",
            "  0%|          | 0/160 [00:00<?, ?it/s]"
          ],
          "name": "stderr"
        },
        {
          "output_type": "stream",
          "text": [
            "Training Losses 0.28854329029472764 accuracy 0.8990745591059891\n"
          ],
          "name": "stdout"
        },
        {
          "output_type": "stream",
          "text": [
            "/usr/local/lib/python3.6/dist-packages/transformers/tokenization_utils_base.py:1770: FutureWarning: The `pad_to_max_length` argument is deprecated and will be removed in a future version, use `padding=True` or `padding='longest'` to pad to the longest sequence in the batch, or use `padding='max_length'` to pad to a max length. In this case, you can give a specific length with `max_length` (e.g. `max_length=45`) or leave max_length to None to pad to the maximal input size of the model (e.g. 512 for Bert).\n",
            "  FutureWarning,\n",
            "100%|██████████| 160/160 [00:02<00:00, 67.19it/s]\n",
            "  0%|          | 0/716 [00:00<?, ?it/s]"
          ],
          "name": "stderr"
        },
        {
          "output_type": "stream",
          "text": [
            "Val loss 1.0703456054790876 accuracy 0.6483516483516484\n",
            "\n",
            "Epoch 5 /5\n",
            "----------\n"
          ],
          "name": "stdout"
        },
        {
          "output_type": "stream",
          "text": [
            "/usr/local/lib/python3.6/dist-packages/transformers/tokenization_utils_base.py:1770: FutureWarning: The `pad_to_max_length` argument is deprecated and will be removed in a future version, use `padding=True` or `padding='longest'` to pad to the longest sequence in the batch, or use `padding='max_length'` to pad to a max length. In this case, you can give a specific length with `max_length` (e.g. `max_length=45`) or leave max_length to None to pad to the maximal input size of the model (e.g. 512 for Bert).\n",
            "  FutureWarning,\n",
            "/usr/local/lib/python3.6/dist-packages/transformers/tokenization_utils_base.py:1770: FutureWarning: The `pad_to_max_length` argument is deprecated and will be removed in a future version, use `padding=True` or `padding='longest'` to pad to the longest sequence in the batch, or use `padding='max_length'` to pad to a max length. In this case, you can give a specific length with `max_length` (e.g. `max_length=45`) or leave max_length to None to pad to the maximal input size of the model (e.g. 512 for Bert).\n",
            "  FutureWarning,\n",
            "/usr/local/lib/python3.6/dist-packages/transformers/tokenization_utils_base.py:1770: FutureWarning: The `pad_to_max_length` argument is deprecated and will be removed in a future version, use `padding=True` or `padding='longest'` to pad to the longest sequence in the batch, or use `padding='max_length'` to pad to a max length. In this case, you can give a specific length with `max_length` (e.g. `max_length=45`) or leave max_length to None to pad to the maximal input size of the model (e.g. 512 for Bert).\n",
            "  FutureWarning,\n",
            "/usr/local/lib/python3.6/dist-packages/transformers/tokenization_utils_base.py:1770: FutureWarning: The `pad_to_max_length` argument is deprecated and will be removed in a future version, use `padding=True` or `padding='longest'` to pad to the longest sequence in the batch, or use `padding='max_length'` to pad to a max length. In this case, you can give a specific length with `max_length` (e.g. `max_length=45`) or leave max_length to None to pad to the maximal input size of the model (e.g. 512 for Bert).\n",
            "  FutureWarning,\n",
            "100%|██████████| 716/716 [00:52<00:00, 13.52it/s]\n",
            "  0%|          | 0/160 [00:00<?, ?it/s]"
          ],
          "name": "stderr"
        },
        {
          "output_type": "stream",
          "text": [
            "Training Losses 0.2144544015654139 accuracy 0.9280600663523659\n"
          ],
          "name": "stdout"
        },
        {
          "output_type": "stream",
          "text": [
            "/usr/local/lib/python3.6/dist-packages/transformers/tokenization_utils_base.py:1770: FutureWarning: The `pad_to_max_length` argument is deprecated and will be removed in a future version, use `padding=True` or `padding='longest'` to pad to the longest sequence in the batch, or use `padding='max_length'` to pad to a max length. In this case, you can give a specific length with `max_length` (e.g. `max_length=45`) or leave max_length to None to pad to the maximal input size of the model (e.g. 512 for Bert).\n",
            "  FutureWarning,\n",
            "100%|██████████| 160/160 [00:02<00:00, 66.18it/s]"
          ],
          "name": "stderr"
        },
        {
          "output_type": "stream",
          "text": [
            "Val loss 1.1595388233603443 accuracy 0.6624803767660911\n",
            "\n"
          ],
          "name": "stdout"
        },
        {
          "output_type": "stream",
          "text": [
            "\n"
          ],
          "name": "stderr"
        }
      ]
    },
    {
      "cell_type": "code",
      "metadata": {
        "id": "2BvUuc6gLQLp",
        "colab_type": "code",
        "colab": {}
      },
      "source": [
        "# Time to perform Inference"
      ],
      "execution_count": null,
      "outputs": []
    },
    {
      "cell_type": "code",
      "metadata": {
        "id": "3ZBrrk2qaoMD",
        "colab_type": "code",
        "colab": {}
      },
      "source": [
        "submission = pd.Dataframe"
      ],
      "execution_count": null,
      "outputs": []
    },
    {
      "cell_type": "code",
      "metadata": {
        "id": "lldPq8-tax55",
        "colab_type": "code",
        "colab": {
          "base_uri": "https://localhost:8080/",
          "height": 35
        },
        "outputId": "bd34b0c5-f550-4995-d6d2-ebd99ac3779e"
      },
      "source": [
        "'''\n",
        "from google.colab import drive\n",
        "drive.mount(\"/content/drive\")\n",
        "'''"
      ],
      "execution_count": 39,
      "outputs": [
        {
          "output_type": "execute_result",
          "data": {
            "application/vnd.google.colaboratory.intrinsic+json": {
              "type": "string"
            },
            "text/plain": [
              "'\\nfrom google.colab import drive\\ndrive.mount(\"/content/drive\")\\n'"
            ]
          },
          "metadata": {
            "tags": []
          },
          "execution_count": 39
        }
      ]
    },
    {
      "cell_type": "code",
      "metadata": {
        "id": "yHlb9jE6a0bz",
        "colab_type": "code",
        "colab": {}
      },
      "source": [
        "/content/best_model_state.bin"
      ],
      "execution_count": null,
      "outputs": []
    },
    {
      "cell_type": "code",
      "metadata": {
        "id": "DQvkmYsZbdEU",
        "colab_type": "code",
        "colab": {
          "base_uri": "https://localhost:8080/",
          "height": 204
        },
        "outputId": "45e877b3-7ef4-478b-cbda-e3922c7c8490"
      },
      "source": [
        "test.head()"
      ],
      "execution_count": 63,
      "outputs": [
        {
          "output_type": "execute_result",
          "data": {
            "text/html": [
              "<div>\n",
              "<style scoped>\n",
              "    .dataframe tbody tr th:only-of-type {\n",
              "        vertical-align: middle;\n",
              "    }\n",
              "\n",
              "    .dataframe tbody tr th {\n",
              "        vertical-align: top;\n",
              "    }\n",
              "\n",
              "    .dataframe thead th {\n",
              "        text-align: right;\n",
              "    }\n",
              "</style>\n",
              "<table border=\"1\" class=\"dataframe\">\n",
              "  <thead>\n",
              "    <tr style=\"text-align: right;\">\n",
              "      <th></th>\n",
              "      <th>Text_ID</th>\n",
              "      <th>Product_Type</th>\n",
              "      <th>review</th>\n",
              "    </tr>\n",
              "  </thead>\n",
              "  <tbody>\n",
              "    <tr>\n",
              "      <th>0</th>\n",
              "      <td>5786</td>\n",
              "      <td>7</td>\n",
              "      <td>RT mention Going to SXSW The new iPhone guide ...</td>\n",
              "    </tr>\n",
              "    <tr>\n",
              "      <th>1</th>\n",
              "      <td>5363</td>\n",
              "      <td>9</td>\n",
              "      <td>RT mention 95 of iPhone and Droid apps have le...</td>\n",
              "    </tr>\n",
              "    <tr>\n",
              "      <th>2</th>\n",
              "      <td>6716</td>\n",
              "      <td>9</td>\n",
              "      <td>RT mention Thank you to mention for letting me...</td>\n",
              "    </tr>\n",
              "    <tr>\n",
              "      <th>3</th>\n",
              "      <td>4339</td>\n",
              "      <td>7</td>\n",
              "      <td>Thanks mention were lovin the mention app upda...</td>\n",
              "    </tr>\n",
              "    <tr>\n",
              "      <th>4</th>\n",
              "      <td>66</td>\n",
              "      <td>9</td>\n",
              "      <td>At sxsw mention  mention wanna buy you a drink...</td>\n",
              "    </tr>\n",
              "  </tbody>\n",
              "</table>\n",
              "</div>"
            ],
            "text/plain": [
              "   Text_ID  Product_Type                                             review\n",
              "0     5786             7  RT mention Going to SXSW The new iPhone guide ...\n",
              "1     5363             9  RT mention 95 of iPhone and Droid apps have le...\n",
              "2     6716             9  RT mention Thank you to mention for letting me...\n",
              "3     4339             7  Thanks mention were lovin the mention app upda...\n",
              "4       66             9  At sxsw mention  mention wanna buy you a drink..."
            ]
          },
          "metadata": {
            "tags": []
          },
          "execution_count": 63
        }
      ]
    },
    {
      "cell_type": "markdown",
      "metadata": {
        "id": "U2CzR-tWwKMr",
        "colab_type": "text"
      },
      "source": [
        "** Inference **"
      ]
    },
    {
      "cell_type": "code",
      "metadata": {
        "id": "9JkqHVqP0Lpe",
        "colab_type": "code",
        "colab": {}
      },
      "source": [
        "class BertDataset_test(Dataset):\n",
        "    def __init__(self,reviews):\n",
        "        self.reviews=reviews\n",
        "        self.tokenizer = tokenizer\n",
        "        self.max_len = MAX_LEN\n",
        "        \n",
        "    def __len__(self):\n",
        "        return len(self.reviews)\n",
        "\n",
        "\n",
        "    def __getitem__(self,item):\n",
        "        review = str(self.reviews[item])\n",
        "        inputs = self.tokenizer.encode_plus( \n",
        "            review,\n",
        "            add_special_tokens=True,\n",
        "            max_length=self.max_len,\n",
        "            return_token_type_ids=False,\n",
        "            pad_to_max_length=True,\n",
        "            return_attention_mask=True,\n",
        "            return_tensors='pt',\n",
        "            truncation = True\n",
        "        )\n",
        "\n",
        "\n",
        "        ids =  inputs['input_ids']\n",
        "        mask = inputs['attention_mask']\n",
        "\n",
        "\n",
        "\n",
        "        return {\n",
        "            'review_text':review,\n",
        "            'ids':inputs['input_ids'].flatten(),\n",
        "            'mask':inputs['attention_mask'].flatten()\n",
        "        }"
      ],
      "execution_count": 80,
      "outputs": []
    },
    {
      "cell_type": "code",
      "metadata": {
        "id": "OcKPFEzaFZPx",
        "colab_type": "code",
        "colab": {}
      },
      "source": [
        "test_df = BertDataset_test(test.review.values)"
      ],
      "execution_count": 81,
      "outputs": []
    },
    {
      "cell_type": "code",
      "metadata": {
        "id": "tMaiurQVFn5U",
        "colab_type": "code",
        "colab": {}
      },
      "source": [
        "test_dataloader = DataLoader(test_df,batch_size=4,num_workers=2)"
      ],
      "execution_count": 82,
      "outputs": []
    },
    {
      "cell_type": "code",
      "metadata": {
        "id": "BOPaFFwy0GAC",
        "colab_type": "code",
        "colab": {}
      },
      "source": [
        "# Checking Whether the Bottleneck is Dataloader or the trainnig Loop itself\n"
      ],
      "execution_count": 83,
      "outputs": []
    },
    {
      "cell_type": "code",
      "metadata": {
        "id": "80UCq2sS0Opg",
        "colab_type": "code",
        "colab": {
          "base_uri": "https://localhost:8080/",
          "height": 122
        },
        "outputId": "a8f00b05-388d-46c1-c509-056653b7f0a0"
      },
      "source": [
        "example = next(iter(test_dataloader))\n",
        "example.keys()"
      ],
      "execution_count": 84,
      "outputs": [
        {
          "output_type": "stream",
          "text": [
            "/usr/local/lib/python3.6/dist-packages/transformers/tokenization_utils_base.py:1770: FutureWarning: The `pad_to_max_length` argument is deprecated and will be removed in a future version, use `padding=True` or `padding='longest'` to pad to the longest sequence in the batch, or use `padding='max_length'` to pad to a max length. In this case, you can give a specific length with `max_length` (e.g. `max_length=45`) or leave max_length to None to pad to the maximal input size of the model (e.g. 512 for Bert).\n",
            "  FutureWarning,\n",
            "/usr/local/lib/python3.6/dist-packages/transformers/tokenization_utils_base.py:1770: FutureWarning: The `pad_to_max_length` argument is deprecated and will be removed in a future version, use `padding=True` or `padding='longest'` to pad to the longest sequence in the batch, or use `padding='max_length'` to pad to a max length. In this case, you can give a specific length with `max_length` (e.g. `max_length=45`) or leave max_length to None to pad to the maximal input size of the model (e.g. 512 for Bert).\n",
            "  FutureWarning,\n"
          ],
          "name": "stderr"
        },
        {
          "output_type": "execute_result",
          "data": {
            "text/plain": [
              "dict_keys(['review_text', 'ids', 'mask'])"
            ]
          },
          "metadata": {
            "tags": []
          },
          "execution_count": 84
        }
      ]
    },
    {
      "cell_type": "code",
      "metadata": {
        "id": "HRYEOlLy0VX3",
        "colab_type": "code",
        "colab": {
          "base_uri": "https://localhost:8080/",
          "height": 68
        },
        "outputId": "504ae27b-c0d2-4274-a96f-81dd2abcc856"
      },
      "source": [
        "print(example['ids'].shape)\n",
        "print(example['ids'].shape)\n",
        "print(example['mask'].shape)\n"
      ],
      "execution_count": 85,
      "outputs": [
        {
          "output_type": "stream",
          "text": [
            "torch.Size([4, 64])\n",
            "torch.Size([4, 64])\n",
            "torch.Size([4, 64])\n"
          ],
          "name": "stdout"
        }
      ]
    },
    {
      "cell_type": "code",
      "metadata": {
        "id": "sPQ5Smiy1c6U",
        "colab_type": "code",
        "colab": {}
      },
      "source": [
        "ex_ids = example['ids'].to(DEVICE)\n",
        "ex_mask = example['mask'].to(DEVICE)"
      ],
      "execution_count": 86,
      "outputs": []
    },
    {
      "cell_type": "code",
      "metadata": {
        "id": "TUzKl9f41nS0",
        "colab_type": "code",
        "colab": {}
      },
      "source": [
        "y = F.softmax(model(ex_ids,ex_mask),dim=1)"
      ],
      "execution_count": 89,
      "outputs": []
    },
    {
      "cell_type": "code",
      "metadata": {
        "id": "rPq40tEV10Hi",
        "colab_type": "code",
        "colab": {
          "base_uri": "https://localhost:8080/",
          "height": 136
        },
        "outputId": "8543d314-0210-40de-d0a3-2b535ad71610"
      },
      "source": [
        "print(y)\n",
        "torch.max(y,axis=1)"
      ],
      "execution_count": 88,
      "outputs": [
        {
          "output_type": "stream",
          "text": [
            "tensor([[1.4041e-03, 2.4591e-04, 2.8603e-03, 9.9549e-01],\n",
            "        [4.6622e-02, 9.4327e-01, 8.6560e-03, 1.4546e-03],\n",
            "        [5.7570e-03, 1.6359e-03, 9.8272e-01, 9.8836e-03],\n",
            "        [3.0183e-03, 5.6878e-04, 1.5976e-01, 8.3666e-01]], device='cuda:0',\n",
            "       grad_fn=<SoftmaxBackward>)\n"
          ],
          "name": "stdout"
        },
        {
          "output_type": "execute_result",
          "data": {
            "text/plain": [
              "torch.return_types.max(values=tensor([0.9955, 0.9433, 0.9827, 0.8367], device='cuda:0',\n",
              "       grad_fn=<MaxBackward0>), indices=tensor([3, 1, 2, 3], device='cuda:0'))"
            ]
          },
          "metadata": {
            "tags": []
          },
          "execution_count": 88
        }
      ]
    },
    {
      "cell_type": "code",
      "metadata": {
        "id": "Y30EEPZN2Nc2",
        "colab_type": "code",
        "colab": {}
      },
      "source": [
        "# So here we confirm that out dataLoader is not our Bottle neck"
      ],
      "execution_count": 63,
      "outputs": []
    },
    {
      "cell_type": "code",
      "metadata": {
        "id": "8cd9zwoiGf8q",
        "colab_type": "code",
        "colab": {}
      },
      "source": [
        "#torch.save(model.state_dict(), '/content/drive/My Drive/best_model_state.bin')\n"
      ],
      "execution_count": 114,
      "outputs": []
    },
    {
      "cell_type": "code",
      "metadata": {
        "id": "5aeO-cfa2Yow",
        "colab_type": "code",
        "colab": {}
      },
      "source": [
        "model = model.to(DEVICE)"
      ],
      "execution_count": 65,
      "outputs": []
    },
    {
      "cell_type": "code",
      "metadata": {
        "id": "msRqO6Ro2ef_",
        "colab_type": "code",
        "colab": {}
      },
      "source": [
        "# Hope so the weights loaded are the weights of the best model\n",
        "from tqdm import tqdm"
      ],
      "execution_count": 90,
      "outputs": []
    },
    {
      "cell_type": "code",
      "metadata": {
        "id": "QLOTAdZbGvu_",
        "colab_type": "code",
        "colab": {}
      },
      "source": [
        "# Create Testing Loop \n",
        "test[\"sentiment\"] = 0"
      ],
      "execution_count": null,
      "outputs": []
    },
    {
      "cell_type": "code",
      "metadata": {
        "id": "IBnTh14zG3JO",
        "colab_type": "code",
        "colab": {}
      },
      "source": [
        "def test_fn(model,dataloader,device,):\n",
        "    model.eval()\n",
        "    final_pred = []\n",
        "    with torch.no_grad():\n",
        "        tk0 = tqdm(test_dataloader,total=len(test_dataloader))\n",
        "        for data in tk0:\n",
        "            ids = data['ids'].to(device)\n",
        "            mask = data['mask'].to(device)\n",
        "            op = model(ids,mask)\n",
        "            _,preds = torch.max(op,dim=1)\n",
        "            # if want the probability dont use max()\n",
        "            final_pred.append(preds.tolist())\n",
        "\n",
        "    return final_pred\n",
        "\n",
        "    "
      ],
      "execution_count": 99,
      "outputs": []
    },
    {
      "cell_type": "code",
      "metadata": {
        "id": "vmG7z6YUIEJV",
        "colab_type": "code",
        "colab": {
          "base_uri": "https://localhost:8080/",
          "height": 1000
        },
        "outputId": "3f9836c2-5df2-4030-dfac-7529d0b7f572"
      },
      "source": [
        "axes = test_fn(model,test_dataloader,DEVICE)"
      ],
      "execution_count": 100,
      "outputs": [
        {
          "output_type": "stream",
          "text": [
            "\n",
            "\n",
            "  0%|          | 0/682 [00:00<?, ?it/s]\u001b[A\u001b[A/usr/local/lib/python3.6/dist-packages/transformers/tokenization_utils_base.py:1770: FutureWarning: The `pad_to_max_length` argument is deprecated and will be removed in a future version, use `padding=True` or `padding='longest'` to pad to the longest sequence in the batch, or use `padding='max_length'` to pad to a max length. In this case, you can give a specific length with `max_length` (e.g. `max_length=45`) or leave max_length to None to pad to the maximal input size of the model (e.g. 512 for Bert).\n",
            "  FutureWarning,\n",
            "/usr/local/lib/python3.6/dist-packages/transformers/tokenization_utils_base.py:1770: FutureWarning: The `pad_to_max_length` argument is deprecated and will be removed in a future version, use `padding=True` or `padding='longest'` to pad to the longest sequence in the batch, or use `padding='max_length'` to pad to a max length. In this case, you can give a specific length with `max_length` (e.g. `max_length=45`) or leave max_length to None to pad to the maximal input size of the model (e.g. 512 for Bert).\n",
            "  FutureWarning,\n",
            "\n",
            "\n",
            "  0%|          | 1/682 [00:00<01:13,  9.32it/s]\u001b[A\u001b[A\n",
            "\n",
            "  1%|          | 8/682 [00:00<00:53, 12.55it/s]\u001b[A\u001b[A\n",
            "\n",
            "  2%|▏         | 15/682 [00:00<00:40, 16.60it/s]\u001b[A\u001b[A\n",
            "\n",
            "  3%|▎         | 23/682 [00:00<00:30, 21.59it/s]\u001b[A\u001b[A\n",
            "\n",
            "  4%|▍         | 30/682 [00:00<00:24, 27.09it/s]\u001b[A\u001b[A\n",
            "\n",
            "  5%|▌         | 37/682 [00:00<00:19, 33.08it/s]\u001b[A\u001b[A\n",
            "\n",
            "  6%|▋         | 44/682 [00:00<00:16, 38.85it/s]\u001b[A\u001b[A\n",
            "\n",
            "  7%|▋         | 51/682 [00:00<00:14, 44.62it/s]\u001b[A\u001b[A\n",
            "\n",
            "  9%|▊         | 59/682 [00:00<00:12, 50.30it/s]\u001b[A\u001b[A\n",
            "\n",
            " 10%|▉         | 67/682 [00:01<00:11, 55.19it/s]\u001b[A\u001b[A\n",
            "\n",
            " 11%|█         | 75/682 [00:01<00:10, 58.77it/s]\u001b[A\u001b[A\n",
            "\n",
            " 12%|█▏        | 82/682 [00:01<00:09, 61.04it/s]\u001b[A\u001b[A\n",
            "\n",
            " 13%|█▎        | 89/682 [00:01<00:09, 63.30it/s]\u001b[A\u001b[A\n",
            "\n",
            " 14%|█▍        | 96/682 [00:01<00:08, 65.13it/s]\u001b[A\u001b[A\n",
            "\n",
            " 15%|█▌        | 103/682 [00:01<00:08, 65.61it/s]\u001b[A\u001b[A\n",
            "\n",
            " 16%|█▌        | 110/682 [00:01<00:08, 65.66it/s]\u001b[A\u001b[A\n",
            "\n",
            " 17%|█▋        | 118/682 [00:01<00:08, 67.39it/s]\u001b[A\u001b[A\n",
            "\n",
            " 18%|█▊        | 125/682 [00:01<00:08, 67.35it/s]\u001b[A\u001b[A\n",
            "\n",
            " 20%|█▉        | 133/682 [00:02<00:07, 68.63it/s]\u001b[A\u001b[A\n",
            "\n",
            " 21%|██        | 140/682 [00:02<00:07, 68.88it/s]\u001b[A\u001b[A\n",
            "\n",
            " 22%|██▏       | 148/682 [00:02<00:07, 69.42it/s]\u001b[A\u001b[A\n",
            "\n",
            " 23%|██▎       | 155/682 [00:02<00:07, 69.22it/s]\u001b[A\u001b[A\n",
            "\n",
            " 24%|██▍       | 163/682 [00:02<00:07, 69.77it/s]\u001b[A\u001b[A\n",
            "\n",
            " 25%|██▍       | 170/682 [00:02<00:07, 68.76it/s]\u001b[A\u001b[A\n",
            "\n",
            " 26%|██▌       | 177/682 [00:02<00:07, 68.18it/s]\u001b[A\u001b[A\n",
            "\n",
            " 27%|██▋       | 184/682 [00:02<00:07, 67.38it/s]\u001b[A\u001b[A\n",
            "\n",
            " 28%|██▊       | 191/682 [00:02<00:07, 67.21it/s]\u001b[A\u001b[A\n",
            "\n",
            " 29%|██▉       | 199/682 [00:02<00:07, 68.20it/s]\u001b[A\u001b[A\n",
            "\n",
            " 30%|███       | 206/682 [00:03<00:07, 67.97it/s]\u001b[A\u001b[A\n",
            "\n",
            " 31%|███       | 213/682 [00:03<00:06, 68.09it/s]\u001b[A\u001b[A\n",
            "\n",
            " 32%|███▏      | 220/682 [00:03<00:06, 68.56it/s]\u001b[A\u001b[A\n",
            "\n",
            " 33%|███▎      | 227/682 [00:03<00:06, 68.59it/s]\u001b[A\u001b[A\n",
            "\n",
            " 34%|███▍      | 234/682 [00:03<00:06, 68.98it/s]\u001b[A\u001b[A\n",
            "\n",
            " 35%|███▌      | 241/682 [00:03<00:06, 68.26it/s]\u001b[A\u001b[A\n",
            "\n",
            " 36%|███▋      | 248/682 [00:03<00:06, 68.02it/s]\u001b[A\u001b[A\n",
            "\n",
            " 37%|███▋      | 255/682 [00:03<00:06, 67.33it/s]\u001b[A\u001b[A\n",
            "\n",
            " 38%|███▊      | 262/682 [00:03<00:06, 66.93it/s]\u001b[A\u001b[A\n",
            "\n",
            " 39%|███▉      | 269/682 [00:04<00:06, 67.66it/s]\u001b[A\u001b[A\n",
            "\n",
            " 40%|████      | 276/682 [00:04<00:05, 68.05it/s]\u001b[A\u001b[A\n",
            "\n",
            " 41%|████▏     | 283/682 [00:04<00:05, 67.99it/s]\u001b[A\u001b[A\n",
            "\n",
            " 43%|████▎     | 290/682 [00:04<00:05, 68.09it/s]\u001b[A\u001b[A\n",
            "\n",
            " 44%|████▎     | 297/682 [00:04<00:05, 68.29it/s]\u001b[A\u001b[A\n",
            "\n",
            " 45%|████▍     | 304/682 [00:04<00:05, 67.13it/s]\u001b[A\u001b[A\n",
            "\n",
            " 46%|████▌     | 311/682 [00:04<00:05, 66.41it/s]\u001b[A\u001b[A\n",
            "\n",
            " 47%|████▋     | 318/682 [00:04<00:05, 65.93it/s]\u001b[A\u001b[A\n",
            "\n",
            " 48%|████▊     | 325/682 [00:04<00:05, 65.36it/s]\u001b[A\u001b[A\n",
            "\n",
            " 49%|████▊     | 332/682 [00:04<00:05, 66.18it/s]\u001b[A\u001b[A\n",
            "\n",
            " 50%|████▉     | 339/682 [00:05<00:05, 67.12it/s]\u001b[A\u001b[A\n",
            "\n",
            " 51%|█████     | 346/682 [00:05<00:04, 67.24it/s]\u001b[A\u001b[A\n",
            "\n",
            " 52%|█████▏    | 353/682 [00:05<00:04, 67.78it/s]\u001b[A\u001b[A\n",
            "\n",
            " 53%|█████▎    | 360/682 [00:05<00:04, 68.03it/s]\u001b[A\u001b[A\n",
            "\n",
            " 54%|█████▍    | 367/682 [00:05<00:04, 68.05it/s]\u001b[A\u001b[A\n",
            "\n",
            " 55%|█████▍    | 374/682 [00:05<00:04, 67.59it/s]\u001b[A\u001b[A\n",
            "\n",
            " 56%|█████▌    | 381/682 [00:05<00:04, 67.27it/s]\u001b[A\u001b[A\n",
            "\n",
            " 57%|█████▋    | 388/682 [00:05<00:04, 64.33it/s]\u001b[A\u001b[A\n",
            "\n",
            " 58%|█████▊    | 395/682 [00:05<00:04, 64.69it/s]\u001b[A\u001b[A\n",
            "\n",
            " 59%|█████▉    | 402/682 [00:06<00:04, 65.62it/s]\u001b[A\u001b[A\n",
            "\n",
            " 60%|█████▉    | 409/682 [00:06<00:04, 66.24it/s]\u001b[A\u001b[A\n",
            "\n",
            " 61%|██████    | 416/682 [00:06<00:03, 67.13it/s]\u001b[A\u001b[A\n",
            "\n",
            " 62%|██████▏   | 423/682 [00:06<00:03, 67.86it/s]\u001b[A\u001b[A\n",
            "\n",
            " 63%|██████▎   | 430/682 [00:06<00:03, 67.88it/s]\u001b[A\u001b[A\n",
            "\n",
            " 64%|██████▍   | 437/682 [00:06<00:03, 67.92it/s]\u001b[A\u001b[A\n",
            "\n",
            " 65%|██████▌   | 444/682 [00:06<00:03, 67.89it/s]\u001b[A\u001b[A\n",
            "\n",
            " 66%|██████▌   | 451/682 [00:06<00:03, 67.77it/s]\u001b[A\u001b[A\n",
            "\n",
            " 67%|██████▋   | 458/682 [00:06<00:03, 67.02it/s]\u001b[A\u001b[A\n",
            "\n",
            " 68%|██████▊   | 465/682 [00:06<00:03, 66.88it/s]\u001b[A\u001b[A\n",
            "\n",
            " 69%|██████▉   | 472/682 [00:07<00:03, 67.15it/s]\u001b[A\u001b[A\n",
            "\n",
            " 70%|███████   | 479/682 [00:07<00:03, 67.53it/s]\u001b[A\u001b[A\n",
            "\n",
            " 71%|███████▏  | 487/682 [00:07<00:02, 68.57it/s]\u001b[A\u001b[A\n",
            "\n",
            " 73%|███████▎  | 495/682 [00:07<00:02, 69.04it/s]\u001b[A\u001b[A\n",
            "\n",
            " 74%|███████▎  | 502/682 [00:07<00:02, 69.09it/s]\u001b[A\u001b[A\n",
            "\n",
            " 75%|███████▍  | 509/682 [00:07<00:02, 68.54it/s]\u001b[A\u001b[A\n",
            "\n",
            " 76%|███████▌  | 516/682 [00:07<00:02, 68.91it/s]\u001b[A\u001b[A\n",
            "\n",
            " 77%|███████▋  | 523/682 [00:07<00:02, 68.97it/s]\u001b[A\u001b[A\n",
            "\n",
            " 78%|███████▊  | 530/682 [00:07<00:02, 68.20it/s]\u001b[A\u001b[A\n",
            "\n",
            " 79%|███████▊  | 537/682 [00:07<00:02, 67.44it/s]\u001b[A\u001b[A\n",
            "\n",
            " 80%|███████▉  | 544/682 [00:08<00:02, 68.17it/s]\u001b[A\u001b[A\n",
            "\n",
            " 81%|████████  | 551/682 [00:08<00:01, 67.68it/s]\u001b[A\u001b[A\n",
            "\n",
            " 82%|████████▏ | 558/682 [00:08<00:01, 66.76it/s]\u001b[A\u001b[A\n",
            "\n",
            " 83%|████████▎ | 565/682 [00:08<00:01, 66.85it/s]\u001b[A\u001b[A\n",
            "\n",
            " 84%|████████▍ | 572/682 [00:08<00:01, 66.38it/s]\u001b[A\u001b[A\n",
            "\n",
            " 85%|████████▌ | 580/682 [00:08<00:01, 67.52it/s]\u001b[A\u001b[A\n",
            "\n",
            " 86%|████████▌ | 588/682 [00:08<00:01, 68.66it/s]\u001b[A\u001b[A\n",
            "\n",
            " 87%|████████▋ | 595/682 [00:08<00:01, 65.83it/s]\u001b[A\u001b[A\n",
            "\n",
            " 88%|████████▊ | 602/682 [00:08<00:01, 66.02it/s]\u001b[A\u001b[A\n",
            "\n",
            " 89%|████████▉ | 609/682 [00:09<00:01, 67.04it/s]\u001b[A\u001b[A\n",
            "\n",
            " 90%|█████████ | 616/682 [00:09<00:00, 67.67it/s]\u001b[A\u001b[A\n",
            "\n",
            " 91%|█████████▏| 623/682 [00:09<00:00, 68.04it/s]\u001b[A\u001b[A\n",
            "\n",
            " 92%|█████████▏| 630/682 [00:09<00:00, 68.32it/s]\u001b[A\u001b[A\n",
            "\n",
            " 93%|█████████▎| 637/682 [00:09<00:00, 68.07it/s]\u001b[A\u001b[A\n",
            "\n",
            " 94%|█████████▍| 644/682 [00:09<00:00, 67.63it/s]\u001b[A\u001b[A\n",
            "\n",
            " 95%|█████████▌| 651/682 [00:09<00:00, 67.48it/s]\u001b[A\u001b[A\n",
            "\n",
            " 96%|█████████▋| 658/682 [00:09<00:00, 67.92it/s]\u001b[A\u001b[A\n",
            "\n",
            " 98%|█████████▊| 665/682 [00:09<00:00, 65.81it/s]\u001b[A\u001b[A\n",
            "\n",
            " 99%|█████████▊| 672/682 [00:10<00:00, 65.04it/s]\u001b[A\u001b[A\n",
            "\n",
            "100%|██████████| 682/682 [00:10<00:00, 66.85it/s]\n"
          ],
          "name": "stderr"
        }
      ]
    },
    {
      "cell_type": "code",
      "metadata": {
        "id": "LYQHgkPlJt99",
        "colab_type": "code",
        "colab": {
          "base_uri": "https://localhost:8080/",
          "height": 34
        },
        "outputId": "317117c0-7b6e-443b-c184-4cce584af976"
      },
      "source": [
        "print(\"Pre-Processing of the outputs to generate the submision\")"
      ],
      "execution_count": 112,
      "outputs": [
        {
          "output_type": "stream",
          "text": [
            "Pre-Processing of the outputs to generate the submision\n"
          ],
          "name": "stdout"
        }
      ]
    },
    {
      "cell_type": "code",
      "metadata": {
        "id": "YBdNVuXH4_Wj",
        "colab_type": "code",
        "colab": {
          "base_uri": "https://localhost:8080/",
          "height": 54
        },
        "outputId": "25e6669d-a231-49a2-8bda-7c5dfcd1a04d"
      },
      "source": [
        "print(axes)\n"
      ],
      "execution_count": 101,
      "outputs": [
        {
          "output_type": "stream",
          "text": [
            "[[3, 1, 2, 3], [2, 2, 2, 3], [3, 2, 3, 3], [1, 3, 2, 2], [2, 1, 1, 2], [2, 2, 3, 3], [3, 2, 2, 3], [3, 3, 2, 2], [2, 2, 1, 3], [3, 1, 3, 3], [2, 3, 2, 2], [2, 2, 3, 2], [3, 2, 1, 2], [2, 3, 2, 2], [2, 2, 2, 2], [2, 2, 3, 2], [3, 2, 2, 3], [2, 2, 2, 3], [2, 2, 2, 2], [2, 2, 1, 2], [2, 2, 1, 2], [1, 3, 2, 2], [2, 2, 2, 2], [2, 2, 2, 2], [2, 2, 2, 3], [3, 2, 2, 3], [3, 2, 3, 3], [3, 2, 3, 3], [2, 2, 1, 3], [2, 2, 3, 2], [2, 2, 2, 1], [2, 2, 2, 1], [2, 3, 2, 3], [1, 1, 2, 1], [3, 2, 3, 3], [2, 2, 2, 3], [2, 2, 3, 2], [2, 2, 1, 2], [2, 2, 2, 1], [1, 2, 2, 2], [3, 3, 2, 3], [2, 2, 2, 2], [2, 2, 2, 2], [2, 3, 2, 3], [2, 2, 3, 2], [3, 2, 2, 2], [2, 3, 3, 2], [2, 2, 2, 1], [2, 3, 2, 3], [2, 3, 3, 2], [3, 2, 1, 2], [2, 1, 3, 3], [2, 1, 2, 2], [2, 3, 2, 3], [3, 3, 2, 2], [2, 2, 1, 2], [2, 2, 2, 2], [3, 2, 3, 2], [2, 2, 2, 3], [3, 2, 2, 2], [3, 2, 3, 3], [2, 2, 2, 2], [2, 3, 2, 2], [2, 3, 2, 2], [2, 2, 3, 2], [2, 3, 2, 2], [2, 3, 2, 2], [2, 3, 2, 2], [2, 2, 2, 2], [2, 2, 2, 2], [2, 2, 2, 2], [2, 2, 2, 3], [2, 2, 3, 2], [2, 2, 2, 3], [3, 2, 2, 2], [3, 3, 2, 2], [2, 2, 2, 2], [1, 3, 2, 3], [3, 2, 3, 2], [2, 2, 2, 3], [3, 2, 1, 2], [2, 2, 3, 3], [2, 2, 2, 2], [2, 2, 3, 2], [2, 3, 2, 1], [3, 2, 3, 3], [2, 3, 3, 2], [2, 3, 2, 2], [2, 3, 3, 2], [2, 2, 2, 3], [2, 2, 2, 2], [3, 2, 3, 1], [3, 3, 2, 3], [2, 2, 2, 2], [2, 2, 2, 2], [3, 3, 2, 2], [2, 3, 2, 2], [2, 1, 2, 3], [3, 2, 3, 2], [2, 2, 3, 2], [2, 2, 2, 2], [2, 2, 2, 2], [3, 2, 2, 2], [2, 2, 2, 2], [3, 1, 2, 3], [2, 2, 3, 2], [1, 3, 3, 2], [2, 2, 2, 3], [2, 2, 2, 2], [2, 2, 3, 2], [3, 2, 2, 3], [3, 3, 2, 2], [2, 2, 2, 3], [3, 2, 3, 3], [2, 2, 3, 2], [2, 2, 3, 3], [2, 3, 2, 2], [1, 2, 2, 2], [2, 1, 2, 3], [2, 2, 2, 2], [2, 3, 2, 2], [3, 3, 2, 3], [2, 2, 3, 2], [2, 2, 2, 2], [2, 2, 2, 2], [3, 2, 2, 2], [2, 2, 3, 2], [2, 2, 1, 3], [3, 2, 3, 2], [2, 2, 3, 3], [2, 3, 3, 3], [2, 2, 1, 3], [2, 3, 2, 3], [3, 3, 2, 2], [3, 2, 2, 3], [3, 2, 3, 2], [3, 3, 3, 3], [2, 2, 2, 2], [2, 2, 3, 1], [3, 2, 2, 2], [3, 3, 2, 3], [2, 2, 2, 3], [2, 2, 2, 2], [2, 2, 2, 3], [2, 2, 1, 2], [2, 2, 2, 2], [2, 2, 2, 2], [3, 2, 1, 2], [2, 2, 2, 2], [2, 2, 2, 1], [1, 3, 2, 2], [2, 3, 2, 2], [2, 2, 3, 2], [3, 2, 2, 3], [2, 2, 3, 2], [2, 3, 2, 2], [2, 3, 3, 2], [2, 3, 3, 2], [3, 2, 2, 2], [2, 2, 2, 3], [2, 1, 2, 2], [2, 2, 2, 1], [2, 2, 2, 2], [2, 2, 3, 2], [2, 2, 3, 2], [2, 3, 2, 2], [2, 2, 2, 3], [2, 3, 2, 1], [1, 2, 2, 2], [2, 2, 1, 3], [2, 3, 2, 2], [2, 2, 2, 2], [1, 2, 2, 2], [2, 2, 3, 2], [2, 3, 2, 2], [2, 2, 2, 2], [2, 2, 2, 2], [1, 2, 2, 3], [1, 3, 1, 3], [2, 2, 3, 3], [3, 2, 2, 2], [2, 2, 1, 2], [2, 2, 3, 2], [2, 2, 2, 2], [3, 3, 2, 3], [3, 3, 2, 3], [2, 3, 2, 2], [2, 3, 2, 1], [3, 3, 2, 2], [2, 2, 3, 3], [2, 2, 2, 2], [2, 3, 2, 2], [2, 2, 2, 2], [2, 2, 3, 2], [2, 3, 2, 2], [2, 1, 3, 2], [3, 3, 2, 3], [2, 2, 2, 2], [2, 2, 2, 3], [2, 1, 3, 2], [1, 2, 3, 2], [2, 3, 2, 3], [1, 3, 2, 3], [2, 2, 3, 2], [2, 3, 2, 3], [3, 2, 3, 2], [3, 2, 3, 2], [3, 3, 2, 2], [3, 2, 3, 2], [3, 2, 2, 3], [1, 2, 3, 3], [2, 3, 2, 1], [1, 3, 1, 2], [2, 3, 2, 1], [2, 3, 3, 2], [2, 2, 2, 3], [2, 1, 2, 2], [3, 2, 2, 3], [3, 3, 2, 2], [2, 2, 3, 2], [2, 2, 3, 2], [2, 3, 2, 3], [2, 3, 3, 2], [3, 2, 3, 3], [2, 3, 2, 3], [2, 2, 2, 2], [3, 2, 2, 2], [2, 2, 2, 2], [2, 3, 2, 2], [2, 3, 2, 2], [3, 2, 3, 1], [3, 2, 2, 2], [2, 2, 2, 1], [2, 3, 3, 3], [2, 3, 2, 3], [3, 2, 3, 3], [2, 2, 3, 3], [2, 1, 3, 2], [2, 2, 2, 2], [3, 3, 3, 2], [3, 2, 2, 2], [2, 2, 2, 1], [3, 2, 3, 2], [2, 2, 3, 3], [2, 3, 2, 3], [3, 2, 2, 2], [2, 2, 2, 3], [3, 2, 1, 2], [2, 2, 2, 2], [2, 2, 2, 3], [2, 3, 2, 1], [3, 2, 2, 3], [2, 3, 2, 2], [3, 3, 3, 1], [2, 3, 3, 2], [2, 2, 2, 3], [2, 2, 2, 3], [2, 3, 2, 3], [2, 3, 2, 3], [1, 1, 2, 2], [2, 3, 2, 3], [2, 3, 3, 2], [3, 2, 1, 2], [3, 2, 2, 2], [2, 2, 2, 3], [3, 2, 2, 1], [3, 2, 2, 3], [1, 3, 1, 3], [3, 2, 3, 2], [3, 2, 2, 2], [2, 2, 3, 2], [2, 3, 3, 2], [2, 2, 3, 3], [2, 2, 2, 3], [3, 3, 2, 2], [2, 2, 2, 2], [2, 2, 3, 2], [3, 3, 1, 3], [1, 3, 3, 2], [2, 3, 1, 3], [2, 2, 2, 2], [2, 2, 2, 2], [2, 3, 2, 3], [2, 2, 2, 3], [2, 2, 2, 3], [2, 1, 2, 3], [1, 2, 3, 2], [2, 2, 3, 2], [2, 3, 2, 3], [2, 2, 3, 3], [2, 2, 2, 2], [3, 3, 2, 3], [2, 2, 3, 2], [0, 3, 3, 3], [3, 2, 2, 3], [2, 3, 2, 2], [2, 2, 2, 2], [2, 3, 2, 2], [2, 2, 3, 2], [2, 3, 2, 2], [2, 1, 2, 2], [2, 2, 2, 2], [2, 2, 2, 2], [1, 2, 2, 2], [3, 3, 2, 2], [2, 2, 2, 2], [2, 2, 2, 2], [2, 2, 2, 2], [2, 2, 3, 2], [2, 2, 2, 3], [2, 3, 3, 3], [3, 2, 2, 2], [3, 2, 2, 2], [2, 2, 3, 2], [3, 2, 1, 2], [3, 2, 3, 3], [3, 2, 2, 3], [2, 2, 2, 3], [2, 2, 3, 3], [3, 2, 3, 2], [2, 2, 2, 3], [3, 3, 2, 2], [2, 2, 3, 3], [3, 3, 3, 2], [2, 3, 2, 2], [2, 2, 2, 3], [1, 2, 2, 2], [2, 2, 2, 3], [2, 3, 2, 3], [3, 2, 1, 2], [3, 2, 2, 3], [2, 2, 2, 2], [1, 2, 2, 2], [3, 2, 2, 2], [2, 2, 2, 1], [3, 2, 2, 3], [2, 2, 2, 2], [3, 2, 2, 3], [3, 2, 1, 2], [3, 2, 3, 2], [3, 2, 3, 3], [3, 3, 2, 3], [2, 3, 2, 2], [1, 2, 2, 2], [3, 3, 2, 2], [3, 2, 1, 2], [3, 1, 2, 2], [2, 2, 3, 2], [2, 3, 1, 3], [2, 3, 2, 2], [1, 2, 2, 1], [2, 2, 2, 2], [2, 3, 3, 2], [2, 2, 1, 3], [2, 3, 3, 3], [2, 2, 2, 2], [2, 2, 2, 2], [2, 2, 2, 2], [3, 2, 2, 2], [2, 2, 2, 2], [2, 2, 1, 1], [3, 3, 1, 3], [2, 2, 3, 2], [2, 2, 2, 2], [2, 3, 2, 3], [1, 2, 2, 2], [2, 3, 3, 1], [2, 2, 3, 2], [3, 2, 2, 2], [2, 2, 2, 2], [3, 1, 2, 3], [2, 3, 2, 3], [2, 1, 3, 2], [2, 2, 2, 2], [3, 2, 2, 2], [2, 2, 3, 3], [3, 1, 2, 2], [1, 2, 2, 2], [2, 2, 2, 2], [2, 2, 2, 2], [2, 3, 3, 2], [2, 3, 2, 2], [2, 3, 2, 1], [2, 3, 3, 1], [2, 2, 2, 2], [2, 2, 2, 2], [1, 1, 2, 3], [3, 2, 2, 3], [2, 3, 2, 2], [2, 2, 2, 2], [3, 2, 3, 2], [3, 3, 2, 2], [2, 2, 3, 1], [2, 1, 3, 2], [3, 3, 3, 2], [3, 3, 3, 3], [1, 2, 2, 3], [2, 2, 1, 2], [2, 2, 2, 2], [2, 1, 2, 3], [2, 2, 3, 2], [1, 2, 2, 2], [3, 1, 1, 2], [3, 3, 2, 2], [3, 2, 2, 3], [2, 3, 2, 2], [3, 2, 3, 2], [2, 3, 2, 2], [2, 3, 3, 3], [3, 2, 2, 1], [1, 2, 2, 2], [3, 2, 1, 3], [2, 3, 3, 3], [2, 2, 2, 2], [2, 2, 2, 3], [3, 2, 2, 2], [3, 2, 2, 3], [3, 2, 3, 3], [2, 2, 3, 2], [3, 2, 3, 2], [3, 2, 2, 2], [2, 2, 2, 1], [2, 2, 2, 2], [2, 3, 2, 3], [2, 3, 2, 2], [3, 3, 3, 3], [3, 3, 2, 2], [3, 2, 3, 3], [2, 2, 2, 2], [2, 2, 3, 2], [2, 2, 3, 1], [1, 3, 3, 2], [2, 2, 2, 2], [2, 2, 2, 3], [2, 2, 2, 2], [1, 2, 2, 2], [2, 3, 3, 2], [2, 2, 2, 3], [3, 2, 2, 3], [3, 2, 2, 3], [2, 2, 2, 2], [2, 1, 2, 3], [2, 2, 2, 3], [2, 2, 2, 2], [2, 1, 3, 2], [2, 2, 3, 2], [1, 2, 2, 2], [2, 1, 2, 1], [2, 3, 2, 2], [3, 3, 2, 2], [2, 3, 3, 2], [3, 2, 3, 1], [2, 2, 3, 2], [2, 2, 2, 2], [3, 2, 3, 2], [2, 3, 2, 2], [3, 2, 2, 2], [2, 3, 2, 3], [2, 2, 3, 2], [2, 2, 3, 3], [3, 2, 3, 3], [2, 2, 2, 2], [2, 3, 2, 2], [3, 3, 2, 3], [1, 2, 2, 2], [2, 2, 3, 2], [2, 2, 2, 2], [2, 2, 3, 3], [1, 2, 2, 3], [3, 2, 3, 2], [3, 2, 1, 3], [2, 2, 1, 3], [2, 2, 1, 3], [2, 2, 3, 3], [1, 3, 3, 3], [2, 2, 2, 3], [2, 2, 2, 3], [2, 2, 1, 3], [3, 2, 2, 2], [2, 2, 2, 2], [3, 2, 2, 2], [3, 2, 2, 2], [3, 3, 2, 2], [2, 2, 2, 3], [2, 2, 2, 3], [2, 3, 3, 2], [2, 2, 2, 2], [2, 3, 3, 2], [2, 3, 1, 2], [2, 2, 3, 2], [3, 2, 2, 2], [1, 3, 1, 2], [2, 2, 2, 3], [2, 2, 2, 2], [2, 2, 2, 2], [2, 2, 2, 2], [2, 2, 1, 2], [2, 2, 1, 3], [3, 1, 3, 3], [3, 2, 2, 3], [1, 2, 3, 2], [3, 2, 2, 2], [1, 3, 2, 3], [2, 3, 2, 2], [2, 2, 3, 3], [2, 2, 2, 2], [2, 2, 2, 2], [3, 2, 3, 2], [3, 2, 2, 2], [2, 3, 2, 2], [3, 2, 2, 2], [2, 3, 2, 2], [1, 2, 2, 2], [2, 3, 3, 2], [2, 2, 2, 2], [2, 2, 2, 2], [2, 3, 1, 1], [2, 2, 2, 3], [2, 2, 3, 2], [3, 3, 2, 2], [3, 2, 2, 3], [2, 1, 2, 2], [1, 3, 2, 2], [3, 2, 2, 2], [2, 3, 2, 2], [1, 2, 2, 2], [2, 2, 2, 3], [3, 3, 3, 3], [2, 1, 3, 2], [2, 1, 3, 3], [2, 2, 1, 2], [3, 2, 1, 3], [3, 2, 2, 2], [2, 3, 2, 2], [2, 2, 2, 2], [3, 2, 2, 2], [3, 2, 2, 2], [3, 3, 2, 3], [2, 3, 2, 3], [3, 3, 2, 2], [2, 3, 2, 1], [2, 3, 1, 2], [2, 3, 2, 2], [2, 2, 2, 3], [2, 3, 2, 2], [2, 2, 2, 3], [2, 2, 2, 1], [2, 3, 3, 2], [2, 3, 3, 2], [3, 3, 2, 2], [3, 3, 2, 2], [2, 2, 2, 2], [2, 2, 3, 2], [2, 2, 2, 2], [2, 2, 3, 3], [2, 2, 2, 2], [3, 2, 3, 3], [2, 2, 2, 3], [2, 2, 2, 2], [1, 3, 2, 3], [2, 2, 2, 3], [3, 2, 2, 2], [2, 2, 3, 2], [2, 3, 2, 3], [2, 2, 3, 2], [2, 2, 2, 2], [2, 3, 2, 3], [2, 2, 2, 2], [2, 2, 2, 2], [2, 2, 1, 2], [3, 3, 3, 2], [3, 3, 2, 2], [2, 3, 2, 2], [2, 2, 2, 2], [3, 2, 3, 2], [3, 3, 2, 1], [2, 3, 2, 3], [2, 2, 2, 2], [2, 2, 3, 2], [2, 2, 3, 2], [2, 2, 2, 3], [2, 2, 3, 2], [2, 2, 2, 3], [2, 2, 3, 2], [3, 2, 2, 2], [2, 3, 3, 2], [2, 2, 3, 2], [3, 2, 1, 2], [2, 2, 2, 2], [3, 2, 2, 2], [2, 2, 1, 2], [2, 2, 2, 2], [2, 3, 3, 3], [3, 2, 2, 1], [2, 3, 2, 2], [2, 2, 2, 2], [2, 2, 2, 3], [1, 3, 2, 3], [3, 2, 3, 2], [2, 2, 2, 3], [2, 2, 3, 1], [2, 3, 3, 3], [2, 2, 2, 3], [3, 1, 2, 2], [2, 1, 2, 2], [2, 2, 2, 2], [2, 3, 2, 2], [2, 2, 2, 2], [3, 1, 2, 3], [3, 2, 2, 3], [3, 2, 2, 2], [2, 2, 1, 1], [3, 2, 3, 3], [3, 2, 3, 2], [2, 2, 2, 3], [3, 3, 3, 2], [2, 3, 1, 3], [2, 1, 1, 2], [2, 2, 3, 2], [2, 3, 2, 2], [2, 1, 3, 2], [3, 2, 3, 2], [2, 2, 2, 2], [2, 1, 2, 2], [2, 3, 3, 3], [2, 3, 2, 2], [2, 2, 2, 2], [2, 2, 2, 3], [2, 1, 2, 3], [3, 2, 2, 2], [2, 2, 2, 3], [3, 3, 2, 3], [3, 1, 3, 2], [2, 3, 2, 3], [1, 2, 2, 3], [2, 3, 2, 2], [3, 2, 2, 2], [2, 2, 2, 3], [2, 2, 2, 1], [3, 2, 2, 3], [2, 2, 3, 2], [3, 2, 3, 2], [2, 1, 2, 3], [3, 2, 1, 3], [3, 3, 3, 2], [2, 3, 2, 2], [2, 2, 2, 3], [2, 2, 2, 3], [3, 3, 3, 1], [3, 3, 2, 3], [2, 1, 2, 2], [3, 2, 2, 3], [2, 3, 2, 1], [2, 2, 2, 2], [2, 3, 2, 3], [2, 2, 3, 2], [1, 2, 3, 1], [2, 2, 2, 2], [2, 2, 2, 3], [1, 2, 2, 2], [3, 3, 2, 3], [3, 2, 2, 2], [3, 2, 2, 2], [3, 3, 1, 2], [2, 3, 2, 3], [3, 2, 2, 2], [2, 3, 2, 3], [2, 2, 1, 3], [3, 3, 2, 3], [3, 3, 3, 3], [3, 2, 3, 2], [2, 2, 3, 1], [2, 2, 2, 3], [2, 2, 2, 3], [2, 3, 2, 2], [2, 2, 2, 3], [2, 3, 2, 3], [3, 2, 2, 3], [2, 3, 2, 3], [2, 3, 2, 3], [3, 2, 2, 2], [2, 3, 2, 0]]\n"
          ],
          "name": "stdout"
        }
      ]
    },
    {
      "cell_type": "code",
      "metadata": {
        "id": "lUC1-WKh6Gys",
        "colab_type": "code",
        "colab": {}
      },
      "source": [
        "# aha this seems some Good predictions as compared to the previous predictions where the model predicted class2 always\n",
        "# We are going to fill in the Classes for the test Dataframe , if want you can use the probablities"
      ],
      "execution_count": 108,
      "outputs": []
    },
    {
      "cell_type": "code",
      "metadata": {
        "id": "CC8Q9nyaDM5o",
        "colab_type": "code",
        "colab": {
          "base_uri": "https://localhost:8080/",
          "height": 54
        },
        "outputId": "46323853-da57-44f1-ed17-7508f1aeab39"
      },
      "source": [
        "senti = []\n",
        "for i in axes:\n",
        "    senti.extend(i)\n",
        "print(senti)"
      ],
      "execution_count": 102,
      "outputs": [
        {
          "output_type": "stream",
          "text": [
            "[3, 1, 2, 3, 2, 2, 2, 3, 3, 2, 3, 3, 1, 3, 2, 2, 2, 1, 1, 2, 2, 2, 3, 3, 3, 2, 2, 3, 3, 3, 2, 2, 2, 2, 1, 3, 3, 1, 3, 3, 2, 3, 2, 2, 2, 2, 3, 2, 3, 2, 1, 2, 2, 3, 2, 2, 2, 2, 2, 2, 2, 2, 3, 2, 3, 2, 2, 3, 2, 2, 2, 3, 2, 2, 2, 2, 2, 2, 1, 2, 2, 2, 1, 2, 1, 3, 2, 2, 2, 2, 2, 2, 2, 2, 2, 2, 2, 2, 2, 3, 3, 2, 2, 3, 3, 2, 3, 3, 3, 2, 3, 3, 2, 2, 1, 3, 2, 2, 3, 2, 2, 2, 2, 1, 2, 2, 2, 1, 2, 3, 2, 3, 1, 1, 2, 1, 3, 2, 3, 3, 2, 2, 2, 3, 2, 2, 3, 2, 2, 2, 1, 2, 2, 2, 2, 1, 1, 2, 2, 2, 3, 3, 2, 3, 2, 2, 2, 2, 2, 2, 2, 2, 2, 3, 2, 3, 2, 2, 3, 2, 3, 2, 2, 2, 2, 3, 3, 2, 2, 2, 2, 1, 2, 3, 2, 3, 2, 3, 3, 2, 3, 2, 1, 2, 2, 1, 3, 3, 2, 1, 2, 2, 2, 3, 2, 3, 3, 3, 2, 2, 2, 2, 1, 2, 2, 2, 2, 2, 3, 2, 3, 2, 2, 2, 2, 3, 3, 2, 2, 2, 3, 2, 3, 3, 2, 2, 2, 2, 2, 3, 2, 2, 2, 3, 2, 2, 2, 2, 3, 2, 2, 3, 2, 2, 2, 3, 2, 2, 2, 3, 2, 2, 2, 2, 2, 2, 2, 2, 2, 2, 2, 2, 2, 2, 2, 2, 2, 3, 2, 2, 3, 2, 2, 2, 2, 3, 3, 2, 2, 2, 3, 3, 2, 2, 2, 2, 2, 2, 1, 3, 2, 3, 3, 2, 3, 2, 2, 2, 2, 3, 3, 2, 1, 2, 2, 2, 3, 3, 2, 2, 2, 2, 2, 2, 3, 2, 2, 3, 2, 1, 3, 2, 3, 3, 2, 3, 3, 2, 2, 3, 2, 2, 2, 3, 3, 2, 2, 2, 2, 3, 2, 2, 2, 2, 3, 2, 3, 1, 3, 3, 2, 3, 2, 2, 2, 2, 2, 2, 2, 2, 3, 3, 2, 2, 2, 3, 2, 2, 2, 1, 2, 3, 3, 2, 3, 2, 2, 2, 3, 2, 2, 2, 2, 2, 2, 2, 2, 2, 3, 2, 2, 2, 2, 2, 2, 2, 3, 1, 2, 3, 2, 2, 3, 2, 1, 3, 3, 2, 2, 2, 2, 3, 2, 2, 2, 2, 2, 2, 3, 2, 3, 2, 2, 3, 3, 3, 2, 2, 2, 2, 2, 3, 3, 2, 3, 3, 2, 2, 3, 2, 2, 2, 3, 3, 2, 3, 2, 2, 1, 2, 2, 2, 2, 1, 2, 3, 2, 2, 2, 2, 2, 3, 2, 2, 3, 3, 2, 3, 2, 2, 3, 2, 2, 2, 2, 2, 2, 2, 2, 2, 3, 2, 2, 2, 2, 2, 3, 2, 2, 2, 1, 3, 3, 2, 3, 2, 2, 2, 3, 3, 2, 3, 3, 3, 2, 2, 1, 3, 2, 3, 2, 3, 3, 3, 2, 2, 3, 2, 2, 3, 3, 2, 3, 2, 3, 3, 3, 3, 2, 2, 2, 2, 2, 2, 3, 1, 3, 2, 2, 2, 3, 3, 2, 3, 2, 2, 2, 3, 2, 2, 2, 2, 2, 2, 2, 3, 2, 2, 1, 2, 2, 2, 2, 2, 2, 2, 2, 2, 3, 2, 1, 2, 2, 2, 2, 2, 2, 2, 2, 1, 1, 3, 2, 2, 2, 3, 2, 2, 2, 2, 3, 2, 3, 2, 2, 3, 2, 2, 3, 2, 2, 3, 2, 2, 2, 3, 3, 2, 2, 3, 3, 2, 3, 2, 2, 2, 2, 2, 2, 3, 2, 1, 2, 2, 2, 2, 2, 1, 2, 2, 2, 2, 2, 2, 3, 2, 2, 2, 3, 2, 2, 3, 2, 2, 2, 2, 2, 3, 2, 3, 2, 1, 1, 2, 2, 2, 2, 2, 1, 3, 2, 3, 2, 2, 2, 2, 2, 2, 1, 2, 2, 2, 2, 2, 3, 2, 2, 3, 2, 2, 2, 2, 2, 2, 2, 2, 2, 2, 1, 2, 2, 3, 1, 3, 1, 3, 2, 2, 3, 3, 3, 2, 2, 2, 2, 2, 1, 2, 2, 2, 3, 2, 2, 2, 2, 2, 3, 3, 2, 3, 3, 3, 2, 3, 2, 3, 2, 2, 2, 3, 2, 1, 3, 3, 2, 2, 2, 2, 3, 3, 2, 2, 2, 2, 2, 3, 2, 2, 2, 2, 2, 2, 2, 2, 3, 2, 2, 3, 2, 2, 2, 1, 3, 2, 3, 3, 2, 3, 2, 2, 2, 2, 2, 2, 2, 3, 2, 1, 3, 2, 1, 2, 3, 2, 2, 3, 2, 3, 1, 3, 2, 3, 2, 2, 3, 2, 2, 3, 2, 3, 3, 2, 3, 2, 3, 2, 3, 2, 3, 3, 2, 2, 3, 2, 3, 2, 3, 2, 2, 3, 1, 2, 3, 3, 2, 3, 2, 1, 1, 3, 1, 2, 2, 3, 2, 1, 2, 3, 3, 2, 2, 2, 2, 3, 2, 1, 2, 2, 3, 2, 2, 3, 3, 3, 2, 2, 2, 2, 3, 2, 2, 2, 3, 2, 2, 3, 2, 3, 2, 3, 3, 2, 3, 2, 3, 3, 2, 3, 2, 3, 2, 2, 2, 2, 3, 2, 2, 2, 2, 2, 2, 2, 2, 3, 2, 2, 2, 3, 2, 2, 3, 2, 3, 1, 3, 2, 2, 2, 2, 2, 2, 1, 2, 3, 3, 3, 2, 3, 2, 3, 3, 2, 3, 3, 2, 2, 3, 3, 2, 1, 3, 2, 2, 2, 2, 2, 3, 3, 3, 2, 3, 2, 2, 2, 2, 2, 2, 1, 3, 2, 3, 2, 2, 2, 3, 3, 2, 3, 2, 3, 3, 2, 2, 2, 2, 2, 2, 3, 3, 2, 1, 2, 2, 2, 2, 2, 2, 2, 2, 3, 2, 3, 2, 1, 3, 2, 2, 3, 2, 3, 2, 2, 3, 3, 3, 1, 2, 3, 3, 2, 2, 2, 2, 3, 2, 2, 2, 3, 2, 3, 2, 3, 2, 3, 2, 3, 1, 1, 2, 2, 2, 3, 2, 3, 2, 3, 3, 2, 3, 2, 1, 2, 3, 2, 2, 2, 2, 2, 2, 3, 3, 2, 2, 1, 3, 2, 2, 3, 1, 3, 1, 3, 3, 2, 3, 2, 3, 2, 2, 2, 2, 2, 3, 2, 2, 3, 3, 2, 2, 2, 3, 3, 2, 2, 2, 3, 3, 3, 2, 2, 2, 2, 2, 2, 2, 2, 3, 2, 3, 3, 1, 3, 1, 3, 3, 2, 2, 3, 1, 3, 2, 2, 2, 2, 2, 2, 2, 2, 2, 3, 2, 3, 2, 2, 2, 3, 2, 2, 2, 3, 2, 1, 2, 3, 1, 2, 3, 2, 2, 2, 3, 2, 2, 3, 2, 3, 2, 2, 3, 3, 2, 2, 2, 2, 3, 3, 2, 3, 2, 2, 3, 2, 0, 3, 3, 3, 3, 2, 2, 3, 2, 3, 2, 2, 2, 2, 2, 2, 2, 3, 2, 2, 2, 2, 3, 2, 2, 3, 2, 2, 2, 1, 2, 2, 2, 2, 2, 2, 2, 2, 2, 2, 1, 2, 2, 2, 3, 3, 2, 2, 2, 2, 2, 2, 2, 2, 2, 2, 2, 2, 2, 2, 2, 2, 3, 2, 2, 2, 2, 3, 2, 3, 3, 3, 3, 2, 2, 2, 3, 2, 2, 2, 2, 2, 3, 2, 3, 2, 1, 2, 3, 2, 3, 3, 3, 2, 2, 3, 2, 2, 2, 3, 2, 2, 3, 3, 3, 2, 3, 2, 2, 2, 2, 3, 3, 3, 2, 2, 2, 2, 3, 3, 3, 3, 3, 2, 2, 3, 2, 2, 2, 2, 2, 3, 1, 2, 2, 2, 2, 2, 2, 3, 2, 3, 2, 3, 3, 2, 1, 2, 3, 2, 2, 3, 2, 2, 2, 2, 1, 2, 2, 2, 3, 2, 2, 2, 2, 2, 2, 1, 3, 2, 2, 3, 2, 2, 2, 2, 3, 2, 2, 3, 3, 2, 1, 2, 3, 2, 3, 2, 3, 2, 3, 3, 3, 3, 2, 3, 2, 3, 2, 2, 1, 2, 2, 2, 3, 3, 2, 2, 3, 2, 1, 2, 3, 1, 2, 2, 2, 2, 3, 2, 2, 3, 1, 3, 2, 3, 2, 2, 1, 2, 2, 1, 2, 2, 2, 2, 2, 3, 3, 2, 2, 2, 1, 3, 2, 3, 3, 3, 2, 2, 2, 2, 2, 2, 2, 2, 2, 2, 2, 2, 3, 2, 2, 2, 2, 2, 2, 2, 2, 2, 1, 1, 3, 3, 1, 3, 2, 2, 3, 2, 2, 2, 2, 2, 2, 3, 2, 3, 1, 2, 2, 2, 2, 3, 3, 1, 2, 2, 3, 2, 3, 2, 2, 2, 2, 2, 2, 2, 3, 1, 2, 3, 2, 3, 2, 3, 2, 1, 3, 2, 2, 2, 2, 2, 3, 2, 2, 2, 2, 2, 3, 3, 3, 1, 2, 2, 1, 2, 2, 2, 2, 2, 2, 2, 2, 2, 2, 2, 2, 3, 3, 2, 2, 3, 2, 2, 2, 3, 2, 1, 2, 3, 3, 1, 2, 2, 2, 2, 2, 2, 2, 2, 1, 1, 2, 3, 3, 2, 2, 3, 2, 3, 2, 2, 2, 2, 2, 2, 3, 2, 3, 2, 3, 3, 2, 2, 2, 2, 3, 1, 2, 1, 3, 2, 3, 3, 3, 2, 3, 3, 3, 3, 1, 2, 2, 3, 2, 2, 1, 2, 2, 2, 2, 2, 2, 1, 2, 3, 2, 2, 3, 2, 1, 2, 2, 2, 3, 1, 1, 2, 3, 3, 2, 2, 3, 2, 2, 3, 2, 3, 2, 2, 3, 2, 3, 2, 2, 3, 2, 2, 2, 3, 3, 3, 3, 2, 2, 1, 1, 2, 2, 2, 3, 2, 1, 3, 2, 3, 3, 3, 2, 2, 2, 2, 2, 2, 2, 3, 3, 2, 2, 2, 3, 2, 2, 3, 3, 2, 3, 3, 2, 2, 3, 2, 3, 2, 3, 2, 3, 2, 2, 2, 2, 2, 2, 1, 2, 2, 2, 2, 2, 3, 2, 3, 2, 3, 2, 2, 3, 3, 3, 3, 3, 3, 2, 2, 3, 2, 3, 3, 2, 2, 2, 2, 2, 2, 3, 2, 2, 2, 3, 1, 1, 3, 3, 2, 2, 2, 2, 2, 2, 2, 2, 3, 2, 2, 2, 2, 1, 2, 2, 2, 2, 3, 3, 2, 2, 2, 2, 3, 3, 2, 2, 3, 3, 2, 2, 3, 2, 2, 2, 2, 2, 1, 2, 3, 2, 2, 2, 3, 2, 2, 2, 2, 2, 1, 3, 2, 2, 2, 3, 2, 1, 2, 2, 2, 2, 1, 2, 1, 2, 3, 2, 2, 3, 3, 2, 2, 2, 3, 3, 2, 3, 2, 3, 1, 2, 2, 3, 2, 2, 2, 2, 2, 3, 2, 3, 2, 2, 3, 2, 2, 3, 2, 2, 2, 2, 3, 2, 3, 2, 2, 3, 2, 2, 2, 3, 3, 3, 2, 3, 3, 2, 2, 2, 2, 2, 3, 2, 2, 3, 3, 2, 3, 1, 2, 2, 2, 2, 2, 3, 2, 2, 2, 2, 2, 2, 2, 3, 3, 1, 2, 2, 3, 3, 2, 3, 2, 3, 2, 1, 3, 2, 2, 1, 3, 2, 2, 1, 3, 2, 2, 3, 3, 1, 3, 3, 3, 2, 2, 2, 3, 2, 2, 2, 3, 2, 2, 1, 3, 3, 2, 2, 2, 2, 2, 2, 2, 3, 2, 2, 2, 3, 2, 2, 2, 3, 3, 2, 2, 2, 2, 2, 3, 2, 2, 2, 3, 2, 3, 3, 2, 2, 2, 2, 2, 2, 3, 3, 2, 2, 3, 1, 2, 2, 2, 3, 2, 3, 2, 2, 2, 1, 3, 1, 2, 2, 2, 2, 3, 2, 2, 2, 2, 2, 2, 2, 2, 2, 2, 2, 2, 2, 2, 1, 2, 2, 2, 1, 3, 3, 1, 3, 3, 3, 2, 2, 3, 1, 2, 3, 2, 3, 2, 2, 2, 1, 3, 2, 3, 2, 3, 2, 2, 2, 2, 3, 3, 2, 2, 2, 2, 2, 2, 2, 2, 3, 2, 3, 2, 3, 2, 2, 2, 2, 3, 2, 2, 3, 2, 2, 2, 2, 3, 2, 2, 1, 2, 2, 2, 2, 3, 3, 2, 2, 2, 2, 2, 2, 2, 2, 2, 2, 3, 1, 1, 2, 2, 2, 3, 2, 2, 3, 2, 3, 3, 2, 2, 3, 2, 2, 3, 2, 1, 2, 2, 1, 3, 2, 2, 3, 2, 2, 2, 2, 3, 2, 2, 1, 2, 2, 2, 2, 2, 2, 3, 3, 3, 3, 3, 2, 1, 3, 2, 2, 1, 3, 3, 2, 2, 1, 2, 3, 2, 1, 3, 3, 2, 2, 2, 2, 3, 2, 2, 2, 2, 2, 2, 3, 2, 2, 2, 3, 2, 2, 2, 3, 3, 2, 3, 2, 3, 2, 3, 3, 3, 2, 2, 2, 3, 2, 1, 2, 3, 1, 2, 2, 3, 2, 2, 2, 2, 2, 3, 2, 3, 2, 2, 2, 2, 2, 3, 2, 2, 2, 1, 2, 3, 3, 2, 2, 3, 3, 2, 3, 3, 2, 2, 3, 3, 2, 2, 2, 2, 2, 2, 2, 2, 3, 2, 2, 2, 2, 2, 2, 2, 3, 3, 2, 2, 2, 2, 3, 2, 3, 3, 2, 2, 2, 3, 2, 2, 2, 2, 1, 3, 2, 3, 2, 2, 2, 3, 3, 2, 2, 2, 2, 2, 3, 2, 2, 3, 2, 3, 2, 2, 3, 2, 2, 2, 2, 2, 2, 3, 2, 3, 2, 2, 2, 2, 2, 2, 2, 2, 2, 2, 1, 2, 3, 3, 3, 2, 3, 3, 2, 2, 2, 3, 2, 2, 2, 2, 2, 2, 3, 2, 3, 2, 3, 3, 2, 1, 2, 3, 2, 3, 2, 2, 2, 2, 2, 2, 3, 2, 2, 2, 3, 2, 2, 2, 2, 3, 2, 2, 3, 2, 2, 2, 2, 3, 2, 2, 3, 2, 3, 2, 2, 2, 2, 3, 3, 2, 2, 2, 3, 2, 3, 2, 1, 2, 2, 2, 2, 2, 3, 2, 2, 2, 2, 2, 1, 2, 2, 2, 2, 2, 2, 3, 3, 3, 3, 2, 2, 1, 2, 3, 2, 2, 2, 2, 2, 2, 2, 2, 2, 3, 1, 3, 2, 3, 3, 2, 3, 2, 2, 2, 2, 3, 2, 2, 3, 1, 2, 3, 3, 3, 2, 2, 2, 3, 3, 1, 2, 2, 2, 1, 2, 2, 2, 2, 2, 2, 2, 3, 2, 2, 2, 2, 2, 2, 3, 1, 2, 3, 3, 2, 2, 3, 3, 2, 2, 2, 2, 2, 1, 1, 3, 2, 3, 3, 3, 2, 3, 2, 2, 2, 2, 3, 3, 3, 3, 2, 2, 3, 1, 3, 2, 1, 1, 2, 2, 2, 3, 2, 2, 3, 2, 2, 2, 1, 3, 2, 3, 2, 3, 2, 2, 2, 2, 2, 2, 1, 2, 2, 2, 3, 3, 3, 2, 3, 2, 2, 2, 2, 2, 2, 2, 2, 2, 3, 2, 1, 2, 3, 3, 2, 2, 2, 2, 2, 2, 3, 3, 3, 2, 3, 3, 1, 3, 2, 2, 3, 2, 3, 1, 2, 2, 3, 2, 3, 2, 2, 3, 2, 2, 2, 2, 2, 2, 3, 2, 2, 2, 1, 3, 2, 2, 3, 2, 2, 3, 2, 3, 2, 3, 2, 2, 1, 2, 3, 3, 2, 1, 3, 3, 3, 3, 2, 2, 3, 2, 2, 2, 2, 2, 3, 2, 2, 2, 3, 3, 3, 3, 1, 3, 3, 2, 3, 2, 1, 2, 2, 3, 2, 2, 3, 2, 3, 2, 1, 2, 2, 2, 2, 2, 3, 2, 3, 2, 2, 3, 2, 1, 2, 3, 1, 2, 2, 2, 2, 2, 2, 2, 3, 1, 2, 2, 2, 3, 3, 2, 3, 3, 2, 2, 2, 3, 2, 2, 2, 3, 3, 1, 2, 2, 3, 2, 3, 3, 2, 2, 2, 2, 3, 2, 3, 2, 2, 1, 3, 3, 3, 2, 3, 3, 3, 3, 3, 3, 2, 3, 2, 2, 2, 3, 1, 2, 2, 2, 3, 2, 2, 2, 3, 2, 3, 2, 2, 2, 2, 2, 3, 2, 3, 2, 3, 3, 2, 2, 3, 2, 3, 2, 3, 2, 3, 2, 3, 3, 2, 2, 2, 2, 3, 2, 0]\n"
          ],
          "name": "stdout"
        }
      ]
    },
    {
      "cell_type": "code",
      "metadata": {
        "id": "rpW-5p3fHoaC",
        "colab_type": "code",
        "colab": {}
      },
      "source": [
        "df = pd.DataFrame(senti) \n"
      ],
      "execution_count": 106,
      "outputs": []
    },
    {
      "cell_type": "code",
      "metadata": {
        "id": "8b67edw2HzUw",
        "colab_type": "code",
        "colab": {}
      },
      "source": [
        "test[\"sentiment\"] = df"
      ],
      "execution_count": 110,
      "outputs": []
    },
    {
      "cell_type": "code",
      "metadata": {
        "id": "TWp-bckdIEfd",
        "colab_type": "code",
        "colab": {
          "base_uri": "https://localhost:8080/",
          "height": 204
        },
        "outputId": "433e2642-923c-410c-8d43-ff86850462dd"
      },
      "source": [
        "test.head()"
      ],
      "execution_count": 111,
      "outputs": [
        {
          "output_type": "execute_result",
          "data": {
            "text/html": [
              "<div>\n",
              "<style scoped>\n",
              "    .dataframe tbody tr th:only-of-type {\n",
              "        vertical-align: middle;\n",
              "    }\n",
              "\n",
              "    .dataframe tbody tr th {\n",
              "        vertical-align: top;\n",
              "    }\n",
              "\n",
              "    .dataframe thead th {\n",
              "        text-align: right;\n",
              "    }\n",
              "</style>\n",
              "<table border=\"1\" class=\"dataframe\">\n",
              "  <thead>\n",
              "    <tr style=\"text-align: right;\">\n",
              "      <th></th>\n",
              "      <th>Text_ID</th>\n",
              "      <th>Product_Type</th>\n",
              "      <th>review</th>\n",
              "      <th>sentiment</th>\n",
              "    </tr>\n",
              "  </thead>\n",
              "  <tbody>\n",
              "    <tr>\n",
              "      <th>0</th>\n",
              "      <td>5786</td>\n",
              "      <td>7</td>\n",
              "      <td>RT mention Going to SXSW The new iPhone guide ...</td>\n",
              "      <td>3</td>\n",
              "    </tr>\n",
              "    <tr>\n",
              "      <th>1</th>\n",
              "      <td>5363</td>\n",
              "      <td>9</td>\n",
              "      <td>RT mention 95 of iPhone and Droid apps have le...</td>\n",
              "      <td>1</td>\n",
              "    </tr>\n",
              "    <tr>\n",
              "      <th>2</th>\n",
              "      <td>6716</td>\n",
              "      <td>9</td>\n",
              "      <td>RT mention Thank you to mention for letting me...</td>\n",
              "      <td>2</td>\n",
              "    </tr>\n",
              "    <tr>\n",
              "      <th>3</th>\n",
              "      <td>4339</td>\n",
              "      <td>7</td>\n",
              "      <td>Thanks mention were lovin the mention app upda...</td>\n",
              "      <td>3</td>\n",
              "    </tr>\n",
              "    <tr>\n",
              "      <th>4</th>\n",
              "      <td>66</td>\n",
              "      <td>9</td>\n",
              "      <td>At sxsw mention  mention wanna buy you a drink...</td>\n",
              "      <td>2</td>\n",
              "    </tr>\n",
              "  </tbody>\n",
              "</table>\n",
              "</div>"
            ],
            "text/plain": [
              "   Text_ID  ...  sentiment\n",
              "0     5786  ...          3\n",
              "1     5363  ...          1\n",
              "2     6716  ...          2\n",
              "3     4339  ...          3\n",
              "4       66  ...          2\n",
              "\n",
              "[5 rows x 4 columns]"
            ]
          },
          "metadata": {
            "tags": []
          },
          "execution_count": 111
        }
      ]
    },
    {
      "cell_type": "code",
      "metadata": {
        "id": "AzWknWicIXiQ",
        "colab_type": "code",
        "colab": {}
      },
      "source": [
        "test.drop(\"Product_Type\",axis=1,inplace=True)\n",
        "test.to_csv('submission1.csv') \n"
      ],
      "execution_count": 114,
      "outputs": []
    },
    {
      "cell_type": "code",
      "metadata": {
        "id": "zzYeAJScI5XV",
        "colab_type": "code",
        "colab": {}
      },
      "source": [
        "test_pred = pd.read_csv(\"/content/submission1.csv\")"
      ],
      "execution_count": 115,
      "outputs": []
    },
    {
      "cell_type": "code",
      "metadata": {
        "id": "HuOXLHpPJBKj",
        "colab_type": "code",
        "colab": {
          "base_uri": "https://localhost:8080/",
          "height": 359
        },
        "outputId": "8a51ab14-c83c-4337-ab32-2e77bd8fbe5c"
      },
      "source": [
        "test_pred.head(10)"
      ],
      "execution_count": 116,
      "outputs": [
        {
          "output_type": "execute_result",
          "data": {
            "text/html": [
              "<div>\n",
              "<style scoped>\n",
              "    .dataframe tbody tr th:only-of-type {\n",
              "        vertical-align: middle;\n",
              "    }\n",
              "\n",
              "    .dataframe tbody tr th {\n",
              "        vertical-align: top;\n",
              "    }\n",
              "\n",
              "    .dataframe thead th {\n",
              "        text-align: right;\n",
              "    }\n",
              "</style>\n",
              "<table border=\"1\" class=\"dataframe\">\n",
              "  <thead>\n",
              "    <tr style=\"text-align: right;\">\n",
              "      <th></th>\n",
              "      <th>Unnamed: 0</th>\n",
              "      <th>Text_ID</th>\n",
              "      <th>review</th>\n",
              "      <th>sentiment</th>\n",
              "    </tr>\n",
              "  </thead>\n",
              "  <tbody>\n",
              "    <tr>\n",
              "      <th>0</th>\n",
              "      <td>0</td>\n",
              "      <td>5786</td>\n",
              "      <td>RT mention Going to SXSW The new iPhone guide ...</td>\n",
              "      <td>3</td>\n",
              "    </tr>\n",
              "    <tr>\n",
              "      <th>1</th>\n",
              "      <td>1</td>\n",
              "      <td>5363</td>\n",
              "      <td>RT mention 95 of iPhone and Droid apps have le...</td>\n",
              "      <td>1</td>\n",
              "    </tr>\n",
              "    <tr>\n",
              "      <th>2</th>\n",
              "      <td>2</td>\n",
              "      <td>6716</td>\n",
              "      <td>RT mention Thank you to mention for letting me...</td>\n",
              "      <td>2</td>\n",
              "    </tr>\n",
              "    <tr>\n",
              "      <th>3</th>\n",
              "      <td>3</td>\n",
              "      <td>4339</td>\n",
              "      <td>Thanks mention were lovin the mention app upda...</td>\n",
              "      <td>3</td>\n",
              "    </tr>\n",
              "    <tr>\n",
              "      <th>4</th>\n",
              "      <td>4</td>\n",
              "      <td>66</td>\n",
              "      <td>At sxsw mention  mention wanna buy you a drink...</td>\n",
              "      <td>2</td>\n",
              "    </tr>\n",
              "    <tr>\n",
              "      <th>5</th>\n",
              "      <td>5</td>\n",
              "      <td>8373</td>\n",
              "      <td>I just rated GSDampM Idea City LLC 5 stars men...</td>\n",
              "      <td>2</td>\n",
              "    </tr>\n",
              "    <tr>\n",
              "      <th>6</th>\n",
              "      <td>6</td>\n",
              "      <td>4264</td>\n",
              "      <td>mention Making new fans and friends I hope RT ...</td>\n",
              "      <td>2</td>\n",
              "    </tr>\n",
              "    <tr>\n",
              "      <th>7</th>\n",
              "      <td>7</td>\n",
              "      <td>1982</td>\n",
              "      <td>Want a chance to win an iPad 2 while youre at ...</td>\n",
              "      <td>3</td>\n",
              "    </tr>\n",
              "    <tr>\n",
              "      <th>8</th>\n",
              "      <td>8</td>\n",
              "      <td>2258</td>\n",
              "      <td>mention be sure to use our FREE App for checki...</td>\n",
              "      <td>3</td>\n",
              "    </tr>\n",
              "    <tr>\n",
              "      <th>9</th>\n",
              "      <td>9</td>\n",
              "      <td>8828</td>\n",
              "      <td>Free SXSW music sampler on itunes Includes men...</td>\n",
              "      <td>2</td>\n",
              "    </tr>\n",
              "  </tbody>\n",
              "</table>\n",
              "</div>"
            ],
            "text/plain": [
              "   Unnamed: 0  ...  sentiment\n",
              "0           0  ...          3\n",
              "1           1  ...          1\n",
              "2           2  ...          2\n",
              "3           3  ...          3\n",
              "4           4  ...          2\n",
              "5           5  ...          2\n",
              "6           6  ...          2\n",
              "7           7  ...          3\n",
              "8           8  ...          3\n",
              "9           9  ...          2\n",
              "\n",
              "[10 rows x 4 columns]"
            ]
          },
          "metadata": {
            "tags": []
          },
          "execution_count": 116
        }
      ]
    },
    {
      "cell_type": "code",
      "metadata": {
        "id": "Jz9iVo3aJEbO",
        "colab_type": "code",
        "colab": {
          "base_uri": "https://localhost:8080/",
          "height": 296
        },
        "outputId": "7a3d6746-0ab5-4203-c48d-5768714f72bc"
      },
      "source": [
        "sns.countplot(test_pred[\"sentiment\"])"
      ],
      "execution_count": 118,
      "outputs": [
        {
          "output_type": "execute_result",
          "data": {
            "text/plain": [
              "<matplotlib.axes._subplots.AxesSubplot at 0x7f5c54bc64a8>"
            ]
          },
          "metadata": {
            "tags": []
          },
          "execution_count": 118
        },
        {
          "output_type": "display_data",
          "data": {
            "image/png": "[encoded data removed]",
            "text/plain": [
              "<Figure size 432x288 with 1 Axes>"
            ]
          },
          "metadata": {
            "tags": [],
            "needs_background": "light"
          }
        }
      ]
    },
    {
      "cell_type": "code",
      "metadata": {
        "id": "ZG3IN4EpJKHJ",
        "colab_type": "code",
        "colab": {}
      },
      "source": [
        ""
      ],
      "execution_count": null,
      "outputs": []
    }
  ]
}